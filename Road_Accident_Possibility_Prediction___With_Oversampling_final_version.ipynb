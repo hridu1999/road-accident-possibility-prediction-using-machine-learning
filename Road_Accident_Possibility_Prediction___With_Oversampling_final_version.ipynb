{
  "cells": [
    {
      "cell_type": "markdown",
      "id": "b8cfc5fe",
      "metadata": {
        "id": "b8cfc5fe"
      },
      "source": [
        "# Importing Dataset"
      ]
    },
    {
      "cell_type": "code",
      "execution_count": 5,
      "id": "a0c065b2",
      "metadata": {
        "id": "a0c065b2",
        "colab": {
          "base_uri": "https://localhost:8080/"
        },
        "outputId": "0133323d-939a-4043-e4fe-212d7cb98dd6"
      },
      "outputs": [
        {
          "output_type": "stream",
          "name": "stdout",
          "text": [
            "Requirement already satisfied: imbalanced-learn in /usr/local/lib/python3.10/dist-packages (0.10.1)\n",
            "Requirement already satisfied: numpy>=1.17.3 in /usr/local/lib/python3.10/dist-packages (from imbalanced-learn) (1.25.2)\n",
            "Requirement already satisfied: scipy>=1.3.2 in /usr/local/lib/python3.10/dist-packages (from imbalanced-learn) (1.11.4)\n",
            "Requirement already satisfied: scikit-learn>=1.0.2 in /usr/local/lib/python3.10/dist-packages (from imbalanced-learn) (1.2.2)\n",
            "Requirement already satisfied: joblib>=1.1.1 in /usr/local/lib/python3.10/dist-packages (from imbalanced-learn) (1.3.2)\n",
            "Requirement already satisfied: threadpoolctl>=2.0.0 in /usr/local/lib/python3.10/dist-packages (from imbalanced-learn) (3.4.0)\n"
          ]
        }
      ],
      "source": [
        "import pandas as pd\n",
        "import seaborn as sns\n",
        "import matplotlib.pyplot as plt\n",
        "import numpy as np\n",
        "import sklearn\n",
        "!pip install imbalanced-learn"
      ]
    },
    {
      "cell_type": "code",
      "execution_count": 9,
      "id": "a8b778f6",
      "metadata": {
        "id": "a8b778f6"
      },
      "outputs": [],
      "source": [
        "df = pd.read_csv('/content/bangalore-cas-alerts.csv')"
      ]
    },
    {
      "cell_type": "code",
      "execution_count": 10,
      "id": "507ae5ce",
      "metadata": {
        "id": "507ae5ce",
        "colab": {
          "base_uri": "https://localhost:8080/",
          "height": 363
        },
        "outputId": "7604ce9d-6d6b-4009-c7f9-292f7a171875"
      },
      "outputs": [
        {
          "output_type": "execute_result",
          "data": {
            "text/plain": [
              "   deviceCode_deviceCode  deviceCode_location_latitude  \\\n",
              "0        864504031502210                     12.984595   \n",
              "1        864504031502210                     12.984595   \n",
              "2        864504031502210                     12.987233   \n",
              "3        864504031502210                     12.987233   \n",
              "4        864504031502210                     12.987503   \n",
              "5        864504031502210                     12.987503   \n",
              "6        864504031502210                     12.987523   \n",
              "7        864504031502210                     12.987523   \n",
              "8        864504031502210                     12.988210   \n",
              "9        864504031502210                     12.988210   \n",
              "\n",
              "   deviceCode_location_longitude deviceCode_location_wardName  \\\n",
              "0                      77.744087                     Kadugodi   \n",
              "1                      77.744087                     Kadugodi   \n",
              "2                      77.741119             Garudachar Playa   \n",
              "3                      77.741119             Garudachar Playa   \n",
              "4                      77.740051                         Hudi   \n",
              "5                      77.740051                         Hudi   \n",
              "6                      77.736702                     Kadugodi   \n",
              "7                      77.736702                     Kadugodi   \n",
              "8                      77.731369                         Hudi   \n",
              "9                      77.731369                         Hudi   \n",
              "\n",
              "  deviceCode_pyld_alarmType  deviceCode_pyld_speed  \\\n",
              "0                       PCW                     32   \n",
              "1                       PCW                     32   \n",
              "2                       FCW                     41   \n",
              "3                       FCW                     41   \n",
              "4                 Overspeed                     37   \n",
              "5                 Overspeed                     37   \n",
              "6                       HMW                     32   \n",
              "7                       HMW                     32   \n",
              "8                 Overspeed                     27   \n",
              "9                 Overspeed                     27   \n",
              "\n",
              "  deviceCode_time_recordedTime_$date  \n",
              "0           2018-02-01T01:48:59.000Z  \n",
              "1           2018-02-01T01:48:59.000Z  \n",
              "2           2018-02-01T01:50:00.000Z  \n",
              "3           2018-02-01T01:50:00.000Z  \n",
              "4           2018-02-01T01:50:11.000Z  \n",
              "5           2018-02-01T01:50:11.000Z  \n",
              "6           2018-02-01T01:50:50.000Z  \n",
              "7           2018-02-01T01:50:50.000Z  \n",
              "8           2018-02-01T01:52:26.000Z  \n",
              "9           2018-02-01T01:52:26.000Z  "
            ],
            "text/html": [
              "\n",
              "  <div id=\"df-166d5abf-6996-4f55-8673-e2eedc959572\" class=\"colab-df-container\">\n",
              "    <div>\n",
              "<style scoped>\n",
              "    .dataframe tbody tr th:only-of-type {\n",
              "        vertical-align: middle;\n",
              "    }\n",
              "\n",
              "    .dataframe tbody tr th {\n",
              "        vertical-align: top;\n",
              "    }\n",
              "\n",
              "    .dataframe thead th {\n",
              "        text-align: right;\n",
              "    }\n",
              "</style>\n",
              "<table border=\"1\" class=\"dataframe\">\n",
              "  <thead>\n",
              "    <tr style=\"text-align: right;\">\n",
              "      <th></th>\n",
              "      <th>deviceCode_deviceCode</th>\n",
              "      <th>deviceCode_location_latitude</th>\n",
              "      <th>deviceCode_location_longitude</th>\n",
              "      <th>deviceCode_location_wardName</th>\n",
              "      <th>deviceCode_pyld_alarmType</th>\n",
              "      <th>deviceCode_pyld_speed</th>\n",
              "      <th>deviceCode_time_recordedTime_$date</th>\n",
              "    </tr>\n",
              "  </thead>\n",
              "  <tbody>\n",
              "    <tr>\n",
              "      <th>0</th>\n",
              "      <td>864504031502210</td>\n",
              "      <td>12.984595</td>\n",
              "      <td>77.744087</td>\n",
              "      <td>Kadugodi</td>\n",
              "      <td>PCW</td>\n",
              "      <td>32</td>\n",
              "      <td>2018-02-01T01:48:59.000Z</td>\n",
              "    </tr>\n",
              "    <tr>\n",
              "      <th>1</th>\n",
              "      <td>864504031502210</td>\n",
              "      <td>12.984595</td>\n",
              "      <td>77.744087</td>\n",
              "      <td>Kadugodi</td>\n",
              "      <td>PCW</td>\n",
              "      <td>32</td>\n",
              "      <td>2018-02-01T01:48:59.000Z</td>\n",
              "    </tr>\n",
              "    <tr>\n",
              "      <th>2</th>\n",
              "      <td>864504031502210</td>\n",
              "      <td>12.987233</td>\n",
              "      <td>77.741119</td>\n",
              "      <td>Garudachar Playa</td>\n",
              "      <td>FCW</td>\n",
              "      <td>41</td>\n",
              "      <td>2018-02-01T01:50:00.000Z</td>\n",
              "    </tr>\n",
              "    <tr>\n",
              "      <th>3</th>\n",
              "      <td>864504031502210</td>\n",
              "      <td>12.987233</td>\n",
              "      <td>77.741119</td>\n",
              "      <td>Garudachar Playa</td>\n",
              "      <td>FCW</td>\n",
              "      <td>41</td>\n",
              "      <td>2018-02-01T01:50:00.000Z</td>\n",
              "    </tr>\n",
              "    <tr>\n",
              "      <th>4</th>\n",
              "      <td>864504031502210</td>\n",
              "      <td>12.987503</td>\n",
              "      <td>77.740051</td>\n",
              "      <td>Hudi</td>\n",
              "      <td>Overspeed</td>\n",
              "      <td>37</td>\n",
              "      <td>2018-02-01T01:50:11.000Z</td>\n",
              "    </tr>\n",
              "    <tr>\n",
              "      <th>5</th>\n",
              "      <td>864504031502210</td>\n",
              "      <td>12.987503</td>\n",
              "      <td>77.740051</td>\n",
              "      <td>Hudi</td>\n",
              "      <td>Overspeed</td>\n",
              "      <td>37</td>\n",
              "      <td>2018-02-01T01:50:11.000Z</td>\n",
              "    </tr>\n",
              "    <tr>\n",
              "      <th>6</th>\n",
              "      <td>864504031502210</td>\n",
              "      <td>12.987523</td>\n",
              "      <td>77.736702</td>\n",
              "      <td>Kadugodi</td>\n",
              "      <td>HMW</td>\n",
              "      <td>32</td>\n",
              "      <td>2018-02-01T01:50:50.000Z</td>\n",
              "    </tr>\n",
              "    <tr>\n",
              "      <th>7</th>\n",
              "      <td>864504031502210</td>\n",
              "      <td>12.987523</td>\n",
              "      <td>77.736702</td>\n",
              "      <td>Kadugodi</td>\n",
              "      <td>HMW</td>\n",
              "      <td>32</td>\n",
              "      <td>2018-02-01T01:50:50.000Z</td>\n",
              "    </tr>\n",
              "    <tr>\n",
              "      <th>8</th>\n",
              "      <td>864504031502210</td>\n",
              "      <td>12.988210</td>\n",
              "      <td>77.731369</td>\n",
              "      <td>Hudi</td>\n",
              "      <td>Overspeed</td>\n",
              "      <td>27</td>\n",
              "      <td>2018-02-01T01:52:26.000Z</td>\n",
              "    </tr>\n",
              "    <tr>\n",
              "      <th>9</th>\n",
              "      <td>864504031502210</td>\n",
              "      <td>12.988210</td>\n",
              "      <td>77.731369</td>\n",
              "      <td>Hudi</td>\n",
              "      <td>Overspeed</td>\n",
              "      <td>27</td>\n",
              "      <td>2018-02-01T01:52:26.000Z</td>\n",
              "    </tr>\n",
              "  </tbody>\n",
              "</table>\n",
              "</div>\n",
              "    <div class=\"colab-df-buttons\">\n",
              "\n",
              "  <div class=\"colab-df-container\">\n",
              "    <button class=\"colab-df-convert\" onclick=\"convertToInteractive('df-166d5abf-6996-4f55-8673-e2eedc959572')\"\n",
              "            title=\"Convert this dataframe to an interactive table.\"\n",
              "            style=\"display:none;\">\n",
              "\n",
              "  <svg xmlns=\"http://www.w3.org/2000/svg\" height=\"24px\" viewBox=\"0 -960 960 960\">\n",
              "    <path d=\"M120-120v-720h720v720H120Zm60-500h600v-160H180v160Zm220 220h160v-160H400v160Zm0 220h160v-160H400v160ZM180-400h160v-160H180v160Zm440 0h160v-160H620v160ZM180-180h160v-160H180v160Zm440 0h160v-160H620v160Z\"/>\n",
              "  </svg>\n",
              "    </button>\n",
              "\n",
              "  <style>\n",
              "    .colab-df-container {\n",
              "      display:flex;\n",
              "      gap: 12px;\n",
              "    }\n",
              "\n",
              "    .colab-df-convert {\n",
              "      background-color: #E8F0FE;\n",
              "      border: none;\n",
              "      border-radius: 50%;\n",
              "      cursor: pointer;\n",
              "      display: none;\n",
              "      fill: #1967D2;\n",
              "      height: 32px;\n",
              "      padding: 0 0 0 0;\n",
              "      width: 32px;\n",
              "    }\n",
              "\n",
              "    .colab-df-convert:hover {\n",
              "      background-color: #E2EBFA;\n",
              "      box-shadow: 0px 1px 2px rgba(60, 64, 67, 0.3), 0px 1px 3px 1px rgba(60, 64, 67, 0.15);\n",
              "      fill: #174EA6;\n",
              "    }\n",
              "\n",
              "    .colab-df-buttons div {\n",
              "      margin-bottom: 4px;\n",
              "    }\n",
              "\n",
              "    [theme=dark] .colab-df-convert {\n",
              "      background-color: #3B4455;\n",
              "      fill: #D2E3FC;\n",
              "    }\n",
              "\n",
              "    [theme=dark] .colab-df-convert:hover {\n",
              "      background-color: #434B5C;\n",
              "      box-shadow: 0px 1px 3px 1px rgba(0, 0, 0, 0.15);\n",
              "      filter: drop-shadow(0px 1px 2px rgba(0, 0, 0, 0.3));\n",
              "      fill: #FFFFFF;\n",
              "    }\n",
              "  </style>\n",
              "\n",
              "    <script>\n",
              "      const buttonEl =\n",
              "        document.querySelector('#df-166d5abf-6996-4f55-8673-e2eedc959572 button.colab-df-convert');\n",
              "      buttonEl.style.display =\n",
              "        google.colab.kernel.accessAllowed ? 'block' : 'none';\n",
              "\n",
              "      async function convertToInteractive(key) {\n",
              "        const element = document.querySelector('#df-166d5abf-6996-4f55-8673-e2eedc959572');\n",
              "        const dataTable =\n",
              "          await google.colab.kernel.invokeFunction('convertToInteractive',\n",
              "                                                    [key], {});\n",
              "        if (!dataTable) return;\n",
              "\n",
              "        const docLinkHtml = 'Like what you see? Visit the ' +\n",
              "          '<a target=\"_blank\" href=https://colab.research.google.com/notebooks/data_table.ipynb>data table notebook</a>'\n",
              "          + ' to learn more about interactive tables.';\n",
              "        element.innerHTML = '';\n",
              "        dataTable['output_type'] = 'display_data';\n",
              "        await google.colab.output.renderOutput(dataTable, element);\n",
              "        const docLink = document.createElement('div');\n",
              "        docLink.innerHTML = docLinkHtml;\n",
              "        element.appendChild(docLink);\n",
              "      }\n",
              "    </script>\n",
              "  </div>\n",
              "\n",
              "\n",
              "<div id=\"df-e3c6c80f-d298-45de-8a83-8c5512676480\">\n",
              "  <button class=\"colab-df-quickchart\" onclick=\"quickchart('df-e3c6c80f-d298-45de-8a83-8c5512676480')\"\n",
              "            title=\"Suggest charts\"\n",
              "            style=\"display:none;\">\n",
              "\n",
              "<svg xmlns=\"http://www.w3.org/2000/svg\" height=\"24px\"viewBox=\"0 0 24 24\"\n",
              "     width=\"24px\">\n",
              "    <g>\n",
              "        <path d=\"M19 3H5c-1.1 0-2 .9-2 2v14c0 1.1.9 2 2 2h14c1.1 0 2-.9 2-2V5c0-1.1-.9-2-2-2zM9 17H7v-7h2v7zm4 0h-2V7h2v10zm4 0h-2v-4h2v4z\"/>\n",
              "    </g>\n",
              "</svg>\n",
              "  </button>\n",
              "\n",
              "<style>\n",
              "  .colab-df-quickchart {\n",
              "      --bg-color: #E8F0FE;\n",
              "      --fill-color: #1967D2;\n",
              "      --hover-bg-color: #E2EBFA;\n",
              "      --hover-fill-color: #174EA6;\n",
              "      --disabled-fill-color: #AAA;\n",
              "      --disabled-bg-color: #DDD;\n",
              "  }\n",
              "\n",
              "  [theme=dark] .colab-df-quickchart {\n",
              "      --bg-color: #3B4455;\n",
              "      --fill-color: #D2E3FC;\n",
              "      --hover-bg-color: #434B5C;\n",
              "      --hover-fill-color: #FFFFFF;\n",
              "      --disabled-bg-color: #3B4455;\n",
              "      --disabled-fill-color: #666;\n",
              "  }\n",
              "\n",
              "  .colab-df-quickchart {\n",
              "    background-color: var(--bg-color);\n",
              "    border: none;\n",
              "    border-radius: 50%;\n",
              "    cursor: pointer;\n",
              "    display: none;\n",
              "    fill: var(--fill-color);\n",
              "    height: 32px;\n",
              "    padding: 0;\n",
              "    width: 32px;\n",
              "  }\n",
              "\n",
              "  .colab-df-quickchart:hover {\n",
              "    background-color: var(--hover-bg-color);\n",
              "    box-shadow: 0 1px 2px rgba(60, 64, 67, 0.3), 0 1px 3px 1px rgba(60, 64, 67, 0.15);\n",
              "    fill: var(--button-hover-fill-color);\n",
              "  }\n",
              "\n",
              "  .colab-df-quickchart-complete:disabled,\n",
              "  .colab-df-quickchart-complete:disabled:hover {\n",
              "    background-color: var(--disabled-bg-color);\n",
              "    fill: var(--disabled-fill-color);\n",
              "    box-shadow: none;\n",
              "  }\n",
              "\n",
              "  .colab-df-spinner {\n",
              "    border: 2px solid var(--fill-color);\n",
              "    border-color: transparent;\n",
              "    border-bottom-color: var(--fill-color);\n",
              "    animation:\n",
              "      spin 1s steps(1) infinite;\n",
              "  }\n",
              "\n",
              "  @keyframes spin {\n",
              "    0% {\n",
              "      border-color: transparent;\n",
              "      border-bottom-color: var(--fill-color);\n",
              "      border-left-color: var(--fill-color);\n",
              "    }\n",
              "    20% {\n",
              "      border-color: transparent;\n",
              "      border-left-color: var(--fill-color);\n",
              "      border-top-color: var(--fill-color);\n",
              "    }\n",
              "    30% {\n",
              "      border-color: transparent;\n",
              "      border-left-color: var(--fill-color);\n",
              "      border-top-color: var(--fill-color);\n",
              "      border-right-color: var(--fill-color);\n",
              "    }\n",
              "    40% {\n",
              "      border-color: transparent;\n",
              "      border-right-color: var(--fill-color);\n",
              "      border-top-color: var(--fill-color);\n",
              "    }\n",
              "    60% {\n",
              "      border-color: transparent;\n",
              "      border-right-color: var(--fill-color);\n",
              "    }\n",
              "    80% {\n",
              "      border-color: transparent;\n",
              "      border-right-color: var(--fill-color);\n",
              "      border-bottom-color: var(--fill-color);\n",
              "    }\n",
              "    90% {\n",
              "      border-color: transparent;\n",
              "      border-bottom-color: var(--fill-color);\n",
              "    }\n",
              "  }\n",
              "</style>\n",
              "\n",
              "  <script>\n",
              "    async function quickchart(key) {\n",
              "      const quickchartButtonEl =\n",
              "        document.querySelector('#' + key + ' button');\n",
              "      quickchartButtonEl.disabled = true;  // To prevent multiple clicks.\n",
              "      quickchartButtonEl.classList.add('colab-df-spinner');\n",
              "      try {\n",
              "        const charts = await google.colab.kernel.invokeFunction(\n",
              "            'suggestCharts', [key], {});\n",
              "      } catch (error) {\n",
              "        console.error('Error during call to suggestCharts:', error);\n",
              "      }\n",
              "      quickchartButtonEl.classList.remove('colab-df-spinner');\n",
              "      quickchartButtonEl.classList.add('colab-df-quickchart-complete');\n",
              "    }\n",
              "    (() => {\n",
              "      let quickchartButtonEl =\n",
              "        document.querySelector('#df-e3c6c80f-d298-45de-8a83-8c5512676480 button');\n",
              "      quickchartButtonEl.style.display =\n",
              "        google.colab.kernel.accessAllowed ? 'block' : 'none';\n",
              "    })();\n",
              "  </script>\n",
              "</div>\n",
              "\n",
              "    </div>\n",
              "  </div>\n"
            ],
            "application/vnd.google.colaboratory.intrinsic+json": {
              "type": "dataframe",
              "variable_name": "df"
            }
          },
          "metadata": {},
          "execution_count": 10
        }
      ],
      "source": [
        "df.head(10)"
      ]
    },
    {
      "cell_type": "code",
      "execution_count": 11,
      "id": "975f819b",
      "metadata": {
        "id": "975f819b",
        "colab": {
          "base_uri": "https://localhost:8080/"
        },
        "outputId": "65b03ddd-2cf2-473a-c3b4-c23d5849d6c0"
      },
      "outputs": [
        {
          "output_type": "execute_result",
          "data": {
            "text/plain": [
              "deviceCode_deviceCode                 0\n",
              "deviceCode_location_latitude          0\n",
              "deviceCode_location_longitude         0\n",
              "deviceCode_location_wardName          0\n",
              "deviceCode_pyld_alarmType             0\n",
              "deviceCode_pyld_speed                 0\n",
              "deviceCode_time_recordedTime_$date    0\n",
              "dtype: int64"
            ]
          },
          "metadata": {},
          "execution_count": 11
        }
      ],
      "source": [
        "#Checking missing values\n",
        "df.isnull().sum()"
      ]
    },
    {
      "cell_type": "code",
      "execution_count": 12,
      "id": "f97ca2a2",
      "metadata": {
        "id": "f97ca2a2"
      },
      "outputs": [],
      "source": [
        "# Remove two columns name is 'C' and 'D'\n",
        "df = df.drop(['deviceCode_deviceCode', 'deviceCode_location_wardName', 'deviceCode_time_recordedTime_$date'], axis=1)"
      ]
    },
    {
      "cell_type": "code",
      "execution_count": 13,
      "id": "bc253498",
      "metadata": {
        "id": "bc253498",
        "colab": {
          "base_uri": "https://localhost:8080/",
          "height": 363
        },
        "outputId": "b678e435-bc8e-4633-afd3-aa8d926d9638"
      },
      "outputs": [
        {
          "output_type": "execute_result",
          "data": {
            "text/plain": [
              "   deviceCode_location_latitude  deviceCode_location_longitude  \\\n",
              "0                     12.984595                      77.744087   \n",
              "1                     12.984595                      77.744087   \n",
              "2                     12.987233                      77.741119   \n",
              "3                     12.987233                      77.741119   \n",
              "4                     12.987503                      77.740051   \n",
              "5                     12.987503                      77.740051   \n",
              "6                     12.987523                      77.736702   \n",
              "7                     12.987523                      77.736702   \n",
              "8                     12.988210                      77.731369   \n",
              "9                     12.988210                      77.731369   \n",
              "\n",
              "  deviceCode_pyld_alarmType  deviceCode_pyld_speed  \n",
              "0                       PCW                     32  \n",
              "1                       PCW                     32  \n",
              "2                       FCW                     41  \n",
              "3                       FCW                     41  \n",
              "4                 Overspeed                     37  \n",
              "5                 Overspeed                     37  \n",
              "6                       HMW                     32  \n",
              "7                       HMW                     32  \n",
              "8                 Overspeed                     27  \n",
              "9                 Overspeed                     27  "
            ],
            "text/html": [
              "\n",
              "  <div id=\"df-2344c4ab-e9b8-4112-accc-bb5acd04bc03\" class=\"colab-df-container\">\n",
              "    <div>\n",
              "<style scoped>\n",
              "    .dataframe tbody tr th:only-of-type {\n",
              "        vertical-align: middle;\n",
              "    }\n",
              "\n",
              "    .dataframe tbody tr th {\n",
              "        vertical-align: top;\n",
              "    }\n",
              "\n",
              "    .dataframe thead th {\n",
              "        text-align: right;\n",
              "    }\n",
              "</style>\n",
              "<table border=\"1\" class=\"dataframe\">\n",
              "  <thead>\n",
              "    <tr style=\"text-align: right;\">\n",
              "      <th></th>\n",
              "      <th>deviceCode_location_latitude</th>\n",
              "      <th>deviceCode_location_longitude</th>\n",
              "      <th>deviceCode_pyld_alarmType</th>\n",
              "      <th>deviceCode_pyld_speed</th>\n",
              "    </tr>\n",
              "  </thead>\n",
              "  <tbody>\n",
              "    <tr>\n",
              "      <th>0</th>\n",
              "      <td>12.984595</td>\n",
              "      <td>77.744087</td>\n",
              "      <td>PCW</td>\n",
              "      <td>32</td>\n",
              "    </tr>\n",
              "    <tr>\n",
              "      <th>1</th>\n",
              "      <td>12.984595</td>\n",
              "      <td>77.744087</td>\n",
              "      <td>PCW</td>\n",
              "      <td>32</td>\n",
              "    </tr>\n",
              "    <tr>\n",
              "      <th>2</th>\n",
              "      <td>12.987233</td>\n",
              "      <td>77.741119</td>\n",
              "      <td>FCW</td>\n",
              "      <td>41</td>\n",
              "    </tr>\n",
              "    <tr>\n",
              "      <th>3</th>\n",
              "      <td>12.987233</td>\n",
              "      <td>77.741119</td>\n",
              "      <td>FCW</td>\n",
              "      <td>41</td>\n",
              "    </tr>\n",
              "    <tr>\n",
              "      <th>4</th>\n",
              "      <td>12.987503</td>\n",
              "      <td>77.740051</td>\n",
              "      <td>Overspeed</td>\n",
              "      <td>37</td>\n",
              "    </tr>\n",
              "    <tr>\n",
              "      <th>5</th>\n",
              "      <td>12.987503</td>\n",
              "      <td>77.740051</td>\n",
              "      <td>Overspeed</td>\n",
              "      <td>37</td>\n",
              "    </tr>\n",
              "    <tr>\n",
              "      <th>6</th>\n",
              "      <td>12.987523</td>\n",
              "      <td>77.736702</td>\n",
              "      <td>HMW</td>\n",
              "      <td>32</td>\n",
              "    </tr>\n",
              "    <tr>\n",
              "      <th>7</th>\n",
              "      <td>12.987523</td>\n",
              "      <td>77.736702</td>\n",
              "      <td>HMW</td>\n",
              "      <td>32</td>\n",
              "    </tr>\n",
              "    <tr>\n",
              "      <th>8</th>\n",
              "      <td>12.988210</td>\n",
              "      <td>77.731369</td>\n",
              "      <td>Overspeed</td>\n",
              "      <td>27</td>\n",
              "    </tr>\n",
              "    <tr>\n",
              "      <th>9</th>\n",
              "      <td>12.988210</td>\n",
              "      <td>77.731369</td>\n",
              "      <td>Overspeed</td>\n",
              "      <td>27</td>\n",
              "    </tr>\n",
              "  </tbody>\n",
              "</table>\n",
              "</div>\n",
              "    <div class=\"colab-df-buttons\">\n",
              "\n",
              "  <div class=\"colab-df-container\">\n",
              "    <button class=\"colab-df-convert\" onclick=\"convertToInteractive('df-2344c4ab-e9b8-4112-accc-bb5acd04bc03')\"\n",
              "            title=\"Convert this dataframe to an interactive table.\"\n",
              "            style=\"display:none;\">\n",
              "\n",
              "  <svg xmlns=\"http://www.w3.org/2000/svg\" height=\"24px\" viewBox=\"0 -960 960 960\">\n",
              "    <path d=\"M120-120v-720h720v720H120Zm60-500h600v-160H180v160Zm220 220h160v-160H400v160Zm0 220h160v-160H400v160ZM180-400h160v-160H180v160Zm440 0h160v-160H620v160ZM180-180h160v-160H180v160Zm440 0h160v-160H620v160Z\"/>\n",
              "  </svg>\n",
              "    </button>\n",
              "\n",
              "  <style>\n",
              "    .colab-df-container {\n",
              "      display:flex;\n",
              "      gap: 12px;\n",
              "    }\n",
              "\n",
              "    .colab-df-convert {\n",
              "      background-color: #E8F0FE;\n",
              "      border: none;\n",
              "      border-radius: 50%;\n",
              "      cursor: pointer;\n",
              "      display: none;\n",
              "      fill: #1967D2;\n",
              "      height: 32px;\n",
              "      padding: 0 0 0 0;\n",
              "      width: 32px;\n",
              "    }\n",
              "\n",
              "    .colab-df-convert:hover {\n",
              "      background-color: #E2EBFA;\n",
              "      box-shadow: 0px 1px 2px rgba(60, 64, 67, 0.3), 0px 1px 3px 1px rgba(60, 64, 67, 0.15);\n",
              "      fill: #174EA6;\n",
              "    }\n",
              "\n",
              "    .colab-df-buttons div {\n",
              "      margin-bottom: 4px;\n",
              "    }\n",
              "\n",
              "    [theme=dark] .colab-df-convert {\n",
              "      background-color: #3B4455;\n",
              "      fill: #D2E3FC;\n",
              "    }\n",
              "\n",
              "    [theme=dark] .colab-df-convert:hover {\n",
              "      background-color: #434B5C;\n",
              "      box-shadow: 0px 1px 3px 1px rgba(0, 0, 0, 0.15);\n",
              "      filter: drop-shadow(0px 1px 2px rgba(0, 0, 0, 0.3));\n",
              "      fill: #FFFFFF;\n",
              "    }\n",
              "  </style>\n",
              "\n",
              "    <script>\n",
              "      const buttonEl =\n",
              "        document.querySelector('#df-2344c4ab-e9b8-4112-accc-bb5acd04bc03 button.colab-df-convert');\n",
              "      buttonEl.style.display =\n",
              "        google.colab.kernel.accessAllowed ? 'block' : 'none';\n",
              "\n",
              "      async function convertToInteractive(key) {\n",
              "        const element = document.querySelector('#df-2344c4ab-e9b8-4112-accc-bb5acd04bc03');\n",
              "        const dataTable =\n",
              "          await google.colab.kernel.invokeFunction('convertToInteractive',\n",
              "                                                    [key], {});\n",
              "        if (!dataTable) return;\n",
              "\n",
              "        const docLinkHtml = 'Like what you see? Visit the ' +\n",
              "          '<a target=\"_blank\" href=https://colab.research.google.com/notebooks/data_table.ipynb>data table notebook</a>'\n",
              "          + ' to learn more about interactive tables.';\n",
              "        element.innerHTML = '';\n",
              "        dataTable['output_type'] = 'display_data';\n",
              "        await google.colab.output.renderOutput(dataTable, element);\n",
              "        const docLink = document.createElement('div');\n",
              "        docLink.innerHTML = docLinkHtml;\n",
              "        element.appendChild(docLink);\n",
              "      }\n",
              "    </script>\n",
              "  </div>\n",
              "\n",
              "\n",
              "<div id=\"df-f012c058-beb8-4eb2-b2b1-cc7486837f73\">\n",
              "  <button class=\"colab-df-quickchart\" onclick=\"quickchart('df-f012c058-beb8-4eb2-b2b1-cc7486837f73')\"\n",
              "            title=\"Suggest charts\"\n",
              "            style=\"display:none;\">\n",
              "\n",
              "<svg xmlns=\"http://www.w3.org/2000/svg\" height=\"24px\"viewBox=\"0 0 24 24\"\n",
              "     width=\"24px\">\n",
              "    <g>\n",
              "        <path d=\"M19 3H5c-1.1 0-2 .9-2 2v14c0 1.1.9 2 2 2h14c1.1 0 2-.9 2-2V5c0-1.1-.9-2-2-2zM9 17H7v-7h2v7zm4 0h-2V7h2v10zm4 0h-2v-4h2v4z\"/>\n",
              "    </g>\n",
              "</svg>\n",
              "  </button>\n",
              "\n",
              "<style>\n",
              "  .colab-df-quickchart {\n",
              "      --bg-color: #E8F0FE;\n",
              "      --fill-color: #1967D2;\n",
              "      --hover-bg-color: #E2EBFA;\n",
              "      --hover-fill-color: #174EA6;\n",
              "      --disabled-fill-color: #AAA;\n",
              "      --disabled-bg-color: #DDD;\n",
              "  }\n",
              "\n",
              "  [theme=dark] .colab-df-quickchart {\n",
              "      --bg-color: #3B4455;\n",
              "      --fill-color: #D2E3FC;\n",
              "      --hover-bg-color: #434B5C;\n",
              "      --hover-fill-color: #FFFFFF;\n",
              "      --disabled-bg-color: #3B4455;\n",
              "      --disabled-fill-color: #666;\n",
              "  }\n",
              "\n",
              "  .colab-df-quickchart {\n",
              "    background-color: var(--bg-color);\n",
              "    border: none;\n",
              "    border-radius: 50%;\n",
              "    cursor: pointer;\n",
              "    display: none;\n",
              "    fill: var(--fill-color);\n",
              "    height: 32px;\n",
              "    padding: 0;\n",
              "    width: 32px;\n",
              "  }\n",
              "\n",
              "  .colab-df-quickchart:hover {\n",
              "    background-color: var(--hover-bg-color);\n",
              "    box-shadow: 0 1px 2px rgba(60, 64, 67, 0.3), 0 1px 3px 1px rgba(60, 64, 67, 0.15);\n",
              "    fill: var(--button-hover-fill-color);\n",
              "  }\n",
              "\n",
              "  .colab-df-quickchart-complete:disabled,\n",
              "  .colab-df-quickchart-complete:disabled:hover {\n",
              "    background-color: var(--disabled-bg-color);\n",
              "    fill: var(--disabled-fill-color);\n",
              "    box-shadow: none;\n",
              "  }\n",
              "\n",
              "  .colab-df-spinner {\n",
              "    border: 2px solid var(--fill-color);\n",
              "    border-color: transparent;\n",
              "    border-bottom-color: var(--fill-color);\n",
              "    animation:\n",
              "      spin 1s steps(1) infinite;\n",
              "  }\n",
              "\n",
              "  @keyframes spin {\n",
              "    0% {\n",
              "      border-color: transparent;\n",
              "      border-bottom-color: var(--fill-color);\n",
              "      border-left-color: var(--fill-color);\n",
              "    }\n",
              "    20% {\n",
              "      border-color: transparent;\n",
              "      border-left-color: var(--fill-color);\n",
              "      border-top-color: var(--fill-color);\n",
              "    }\n",
              "    30% {\n",
              "      border-color: transparent;\n",
              "      border-left-color: var(--fill-color);\n",
              "      border-top-color: var(--fill-color);\n",
              "      border-right-color: var(--fill-color);\n",
              "    }\n",
              "    40% {\n",
              "      border-color: transparent;\n",
              "      border-right-color: var(--fill-color);\n",
              "      border-top-color: var(--fill-color);\n",
              "    }\n",
              "    60% {\n",
              "      border-color: transparent;\n",
              "      border-right-color: var(--fill-color);\n",
              "    }\n",
              "    80% {\n",
              "      border-color: transparent;\n",
              "      border-right-color: var(--fill-color);\n",
              "      border-bottom-color: var(--fill-color);\n",
              "    }\n",
              "    90% {\n",
              "      border-color: transparent;\n",
              "      border-bottom-color: var(--fill-color);\n",
              "    }\n",
              "  }\n",
              "</style>\n",
              "\n",
              "  <script>\n",
              "    async function quickchart(key) {\n",
              "      const quickchartButtonEl =\n",
              "        document.querySelector('#' + key + ' button');\n",
              "      quickchartButtonEl.disabled = true;  // To prevent multiple clicks.\n",
              "      quickchartButtonEl.classList.add('colab-df-spinner');\n",
              "      try {\n",
              "        const charts = await google.colab.kernel.invokeFunction(\n",
              "            'suggestCharts', [key], {});\n",
              "      } catch (error) {\n",
              "        console.error('Error during call to suggestCharts:', error);\n",
              "      }\n",
              "      quickchartButtonEl.classList.remove('colab-df-spinner');\n",
              "      quickchartButtonEl.classList.add('colab-df-quickchart-complete');\n",
              "    }\n",
              "    (() => {\n",
              "      let quickchartButtonEl =\n",
              "        document.querySelector('#df-f012c058-beb8-4eb2-b2b1-cc7486837f73 button');\n",
              "      quickchartButtonEl.style.display =\n",
              "        google.colab.kernel.accessAllowed ? 'block' : 'none';\n",
              "    })();\n",
              "  </script>\n",
              "</div>\n",
              "\n",
              "    </div>\n",
              "  </div>\n"
            ],
            "application/vnd.google.colaboratory.intrinsic+json": {
              "type": "dataframe",
              "variable_name": "df"
            }
          },
          "metadata": {},
          "execution_count": 13
        }
      ],
      "source": [
        "df.head(10)"
      ]
    },
    {
      "cell_type": "markdown",
      "id": "563209f4",
      "metadata": {
        "id": "563209f4"
      },
      "source": [
        "# Upsampling"
      ]
    },
    {
      "cell_type": "code",
      "execution_count": 14,
      "id": "8720b65d",
      "metadata": {
        "id": "8720b65d",
        "colab": {
          "base_uri": "https://localhost:8080/",
          "height": 489
        },
        "outputId": "d571da76-ae5d-496c-ff93-6d1ded96304a"
      },
      "outputs": [
        {
          "output_type": "execute_result",
          "data": {
            "text/plain": [
              "Text(0, 0.5, 'Frequency')"
            ]
          },
          "metadata": {},
          "execution_count": 14
        },
        {
          "output_type": "display_data",
          "data": {
            "text/plain": [
              "<Figure size 640x480 with 1 Axes>"
            ],
            "image/png": "[encoded data removed]"
          },
          "metadata": {}
        }
      ],
      "source": [
        "count_classes = pd.value_counts(df['deviceCode_pyld_alarmType'], sort = True)\n",
        "count_classes.plot(kind = 'bar', rot=0)\n",
        "plt.title(\"Before Upsampling\")\n",
        "plt.xticks()\n",
        "plt.xlabel(\"alarmtype\")\n",
        "plt.ylabel(\"Frequency\")"
      ]
    },
    {
      "cell_type": "code",
      "execution_count": 15,
      "id": "694b7d1f",
      "metadata": {
        "id": "694b7d1f",
        "colab": {
          "base_uri": "https://localhost:8080/"
        },
        "outputId": "7733c141-208a-4086-d5e1-d142939f0724"
      },
      "outputs": [
        {
          "output_type": "execute_result",
          "data": {
            "text/plain": [
              "UFCW         82425\n",
              "HMW          36143\n",
              "FCW          35000\n",
              "Overspeed    27440\n",
              "PCW          24003\n",
              "LDWL          1412\n",
              "LDWR          1194\n",
              "Name: deviceCode_pyld_alarmType, dtype: int64"
            ]
          },
          "metadata": {},
          "execution_count": 15
        }
      ],
      "source": [
        "df['deviceCode_pyld_alarmType'].value_counts()"
      ]
    },
    {
      "cell_type": "code",
      "execution_count": 16,
      "id": "1edd9498",
      "metadata": {
        "id": "1edd9498",
        "colab": {
          "base_uri": "https://localhost:8080/",
          "height": 206
        },
        "outputId": "60debf45-83bf-4084-cfa8-a69c3a4c54de"
      },
      "outputs": [
        {
          "output_type": "execute_result",
          "data": {
            "text/plain": [
              "   deviceCode_location_latitude  deviceCode_location_longitude  \\\n",
              "0                     12.984595                      77.744087   \n",
              "1                     12.984595                      77.744087   \n",
              "2                     12.987233                      77.741119   \n",
              "3                     12.987233                      77.741119   \n",
              "4                     12.987503                      77.740051   \n",
              "\n",
              "   deviceCode_pyld_speed  \n",
              "0                     32  \n",
              "1                     32  \n",
              "2                     41  \n",
              "3                     41  \n",
              "4                     37  "
            ],
            "text/html": [
              "\n",
              "  <div id=\"df-435e0632-5f86-4aa0-b34a-77d09435c54f\" class=\"colab-df-container\">\n",
              "    <div>\n",
              "<style scoped>\n",
              "    .dataframe tbody tr th:only-of-type {\n",
              "        vertical-align: middle;\n",
              "    }\n",
              "\n",
              "    .dataframe tbody tr th {\n",
              "        vertical-align: top;\n",
              "    }\n",
              "\n",
              "    .dataframe thead th {\n",
              "        text-align: right;\n",
              "    }\n",
              "</style>\n",
              "<table border=\"1\" class=\"dataframe\">\n",
              "  <thead>\n",
              "    <tr style=\"text-align: right;\">\n",
              "      <th></th>\n",
              "      <th>deviceCode_location_latitude</th>\n",
              "      <th>deviceCode_location_longitude</th>\n",
              "      <th>deviceCode_pyld_speed</th>\n",
              "    </tr>\n",
              "  </thead>\n",
              "  <tbody>\n",
              "    <tr>\n",
              "      <th>0</th>\n",
              "      <td>12.984595</td>\n",
              "      <td>77.744087</td>\n",
              "      <td>32</td>\n",
              "    </tr>\n",
              "    <tr>\n",
              "      <th>1</th>\n",
              "      <td>12.984595</td>\n",
              "      <td>77.744087</td>\n",
              "      <td>32</td>\n",
              "    </tr>\n",
              "    <tr>\n",
              "      <th>2</th>\n",
              "      <td>12.987233</td>\n",
              "      <td>77.741119</td>\n",
              "      <td>41</td>\n",
              "    </tr>\n",
              "    <tr>\n",
              "      <th>3</th>\n",
              "      <td>12.987233</td>\n",
              "      <td>77.741119</td>\n",
              "      <td>41</td>\n",
              "    </tr>\n",
              "    <tr>\n",
              "      <th>4</th>\n",
              "      <td>12.987503</td>\n",
              "      <td>77.740051</td>\n",
              "      <td>37</td>\n",
              "    </tr>\n",
              "  </tbody>\n",
              "</table>\n",
              "</div>\n",
              "    <div class=\"colab-df-buttons\">\n",
              "\n",
              "  <div class=\"colab-df-container\">\n",
              "    <button class=\"colab-df-convert\" onclick=\"convertToInteractive('df-435e0632-5f86-4aa0-b34a-77d09435c54f')\"\n",
              "            title=\"Convert this dataframe to an interactive table.\"\n",
              "            style=\"display:none;\">\n",
              "\n",
              "  <svg xmlns=\"http://www.w3.org/2000/svg\" height=\"24px\" viewBox=\"0 -960 960 960\">\n",
              "    <path d=\"M120-120v-720h720v720H120Zm60-500h600v-160H180v160Zm220 220h160v-160H400v160Zm0 220h160v-160H400v160ZM180-400h160v-160H180v160Zm440 0h160v-160H620v160ZM180-180h160v-160H180v160Zm440 0h160v-160H620v160Z\"/>\n",
              "  </svg>\n",
              "    </button>\n",
              "\n",
              "  <style>\n",
              "    .colab-df-container {\n",
              "      display:flex;\n",
              "      gap: 12px;\n",
              "    }\n",
              "\n",
              "    .colab-df-convert {\n",
              "      background-color: #E8F0FE;\n",
              "      border: none;\n",
              "      border-radius: 50%;\n",
              "      cursor: pointer;\n",
              "      display: none;\n",
              "      fill: #1967D2;\n",
              "      height: 32px;\n",
              "      padding: 0 0 0 0;\n",
              "      width: 32px;\n",
              "    }\n",
              "\n",
              "    .colab-df-convert:hover {\n",
              "      background-color: #E2EBFA;\n",
              "      box-shadow: 0px 1px 2px rgba(60, 64, 67, 0.3), 0px 1px 3px 1px rgba(60, 64, 67, 0.15);\n",
              "      fill: #174EA6;\n",
              "    }\n",
              "\n",
              "    .colab-df-buttons div {\n",
              "      margin-bottom: 4px;\n",
              "    }\n",
              "\n",
              "    [theme=dark] .colab-df-convert {\n",
              "      background-color: #3B4455;\n",
              "      fill: #D2E3FC;\n",
              "    }\n",
              "\n",
              "    [theme=dark] .colab-df-convert:hover {\n",
              "      background-color: #434B5C;\n",
              "      box-shadow: 0px 1px 3px 1px rgba(0, 0, 0, 0.15);\n",
              "      filter: drop-shadow(0px 1px 2px rgba(0, 0, 0, 0.3));\n",
              "      fill: #FFFFFF;\n",
              "    }\n",
              "  </style>\n",
              "\n",
              "    <script>\n",
              "      const buttonEl =\n",
              "        document.querySelector('#df-435e0632-5f86-4aa0-b34a-77d09435c54f button.colab-df-convert');\n",
              "      buttonEl.style.display =\n",
              "        google.colab.kernel.accessAllowed ? 'block' : 'none';\n",
              "\n",
              "      async function convertToInteractive(key) {\n",
              "        const element = document.querySelector('#df-435e0632-5f86-4aa0-b34a-77d09435c54f');\n",
              "        const dataTable =\n",
              "          await google.colab.kernel.invokeFunction('convertToInteractive',\n",
              "                                                    [key], {});\n",
              "        if (!dataTable) return;\n",
              "\n",
              "        const docLinkHtml = 'Like what you see? Visit the ' +\n",
              "          '<a target=\"_blank\" href=https://colab.research.google.com/notebooks/data_table.ipynb>data table notebook</a>'\n",
              "          + ' to learn more about interactive tables.';\n",
              "        element.innerHTML = '';\n",
              "        dataTable['output_type'] = 'display_data';\n",
              "        await google.colab.output.renderOutput(dataTable, element);\n",
              "        const docLink = document.createElement('div');\n",
              "        docLink.innerHTML = docLinkHtml;\n",
              "        element.appendChild(docLink);\n",
              "      }\n",
              "    </script>\n",
              "  </div>\n",
              "\n",
              "\n",
              "<div id=\"df-94954778-92df-4f9e-bcad-8d30a39cd958\">\n",
              "  <button class=\"colab-df-quickchart\" onclick=\"quickchart('df-94954778-92df-4f9e-bcad-8d30a39cd958')\"\n",
              "            title=\"Suggest charts\"\n",
              "            style=\"display:none;\">\n",
              "\n",
              "<svg xmlns=\"http://www.w3.org/2000/svg\" height=\"24px\"viewBox=\"0 0 24 24\"\n",
              "     width=\"24px\">\n",
              "    <g>\n",
              "        <path d=\"M19 3H5c-1.1 0-2 .9-2 2v14c0 1.1.9 2 2 2h14c1.1 0 2-.9 2-2V5c0-1.1-.9-2-2-2zM9 17H7v-7h2v7zm4 0h-2V7h2v10zm4 0h-2v-4h2v4z\"/>\n",
              "    </g>\n",
              "</svg>\n",
              "  </button>\n",
              "\n",
              "<style>\n",
              "  .colab-df-quickchart {\n",
              "      --bg-color: #E8F0FE;\n",
              "      --fill-color: #1967D2;\n",
              "      --hover-bg-color: #E2EBFA;\n",
              "      --hover-fill-color: #174EA6;\n",
              "      --disabled-fill-color: #AAA;\n",
              "      --disabled-bg-color: #DDD;\n",
              "  }\n",
              "\n",
              "  [theme=dark] .colab-df-quickchart {\n",
              "      --bg-color: #3B4455;\n",
              "      --fill-color: #D2E3FC;\n",
              "      --hover-bg-color: #434B5C;\n",
              "      --hover-fill-color: #FFFFFF;\n",
              "      --disabled-bg-color: #3B4455;\n",
              "      --disabled-fill-color: #666;\n",
              "  }\n",
              "\n",
              "  .colab-df-quickchart {\n",
              "    background-color: var(--bg-color);\n",
              "    border: none;\n",
              "    border-radius: 50%;\n",
              "    cursor: pointer;\n",
              "    display: none;\n",
              "    fill: var(--fill-color);\n",
              "    height: 32px;\n",
              "    padding: 0;\n",
              "    width: 32px;\n",
              "  }\n",
              "\n",
              "  .colab-df-quickchart:hover {\n",
              "    background-color: var(--hover-bg-color);\n",
              "    box-shadow: 0 1px 2px rgba(60, 64, 67, 0.3), 0 1px 3px 1px rgba(60, 64, 67, 0.15);\n",
              "    fill: var(--button-hover-fill-color);\n",
              "  }\n",
              "\n",
              "  .colab-df-quickchart-complete:disabled,\n",
              "  .colab-df-quickchart-complete:disabled:hover {\n",
              "    background-color: var(--disabled-bg-color);\n",
              "    fill: var(--disabled-fill-color);\n",
              "    box-shadow: none;\n",
              "  }\n",
              "\n",
              "  .colab-df-spinner {\n",
              "    border: 2px solid var(--fill-color);\n",
              "    border-color: transparent;\n",
              "    border-bottom-color: var(--fill-color);\n",
              "    animation:\n",
              "      spin 1s steps(1) infinite;\n",
              "  }\n",
              "\n",
              "  @keyframes spin {\n",
              "    0% {\n",
              "      border-color: transparent;\n",
              "      border-bottom-color: var(--fill-color);\n",
              "      border-left-color: var(--fill-color);\n",
              "    }\n",
              "    20% {\n",
              "      border-color: transparent;\n",
              "      border-left-color: var(--fill-color);\n",
              "      border-top-color: var(--fill-color);\n",
              "    }\n",
              "    30% {\n",
              "      border-color: transparent;\n",
              "      border-left-color: var(--fill-color);\n",
              "      border-top-color: var(--fill-color);\n",
              "      border-right-color: var(--fill-color);\n",
              "    }\n",
              "    40% {\n",
              "      border-color: transparent;\n",
              "      border-right-color: var(--fill-color);\n",
              "      border-top-color: var(--fill-color);\n",
              "    }\n",
              "    60% {\n",
              "      border-color: transparent;\n",
              "      border-right-color: var(--fill-color);\n",
              "    }\n",
              "    80% {\n",
              "      border-color: transparent;\n",
              "      border-right-color: var(--fill-color);\n",
              "      border-bottom-color: var(--fill-color);\n",
              "    }\n",
              "    90% {\n",
              "      border-color: transparent;\n",
              "      border-bottom-color: var(--fill-color);\n",
              "    }\n",
              "  }\n",
              "</style>\n",
              "\n",
              "  <script>\n",
              "    async function quickchart(key) {\n",
              "      const quickchartButtonEl =\n",
              "        document.querySelector('#' + key + ' button');\n",
              "      quickchartButtonEl.disabled = true;  // To prevent multiple clicks.\n",
              "      quickchartButtonEl.classList.add('colab-df-spinner');\n",
              "      try {\n",
              "        const charts = await google.colab.kernel.invokeFunction(\n",
              "            'suggestCharts', [key], {});\n",
              "      } catch (error) {\n",
              "        console.error('Error during call to suggestCharts:', error);\n",
              "      }\n",
              "      quickchartButtonEl.classList.remove('colab-df-spinner');\n",
              "      quickchartButtonEl.classList.add('colab-df-quickchart-complete');\n",
              "    }\n",
              "    (() => {\n",
              "      let quickchartButtonEl =\n",
              "        document.querySelector('#df-94954778-92df-4f9e-bcad-8d30a39cd958 button');\n",
              "      quickchartButtonEl.style.display =\n",
              "        google.colab.kernel.accessAllowed ? 'block' : 'none';\n",
              "    })();\n",
              "  </script>\n",
              "</div>\n",
              "\n",
              "    </div>\n",
              "  </div>\n"
            ],
            "application/vnd.google.colaboratory.intrinsic+json": {
              "type": "dataframe",
              "variable_name": "x"
            }
          },
          "metadata": {},
          "execution_count": 16
        }
      ],
      "source": [
        "from imblearn.over_sampling import SMOTE\n",
        "y = df.deviceCode_pyld_alarmType\n",
        "x = df.drop(['deviceCode_pyld_alarmType'], axis=1)\n",
        "x.head()"
      ]
    },
    {
      "cell_type": "code",
      "execution_count": 17,
      "id": "90153b64",
      "metadata": {
        "id": "90153b64"
      },
      "outputs": [],
      "source": [
        "x.shape, y.shape\n",
        "smk = SMOTE(random_state=15)\n",
        "x_res,y_res=smk.fit_resample(x, y)"
      ]
    },
    {
      "cell_type": "code",
      "execution_count": 18,
      "id": "59c87255",
      "metadata": {
        "id": "59c87255",
        "colab": {
          "base_uri": "https://localhost:8080/"
        },
        "outputId": "728581ce-e2c6-469c-ed74-16f574161897"
      },
      "outputs": [
        {
          "output_type": "execute_result",
          "data": {
            "text/plain": [
              "((576975, 3), (576975,))"
            ]
          },
          "metadata": {},
          "execution_count": 18
        }
      ],
      "source": [
        "x_res.shape, y_res.shape"
      ]
    },
    {
      "cell_type": "code",
      "execution_count": 19,
      "id": "c8cab47f",
      "metadata": {
        "id": "c8cab47f",
        "colab": {
          "base_uri": "https://localhost:8080/"
        },
        "outputId": "7ef3f2f2-84eb-41ab-881d-8034f61b02db"
      },
      "outputs": [
        {
          "output_type": "execute_result",
          "data": {
            "text/plain": [
              "PCW          82425\n",
              "FCW          82425\n",
              "Overspeed    82425\n",
              "HMW          82425\n",
              "UFCW         82425\n",
              "LDWL         82425\n",
              "LDWR         82425\n",
              "Name: deviceCode_pyld_alarmType, dtype: int64"
            ]
          },
          "metadata": {},
          "execution_count": 19
        }
      ],
      "source": [
        "y_res.value_counts()"
      ]
    },
    {
      "cell_type": "code",
      "execution_count": 20,
      "id": "66671416",
      "metadata": {
        "scrolled": true,
        "id": "66671416",
        "colab": {
          "base_uri": "https://localhost:8080/",
          "height": 489
        },
        "outputId": "a86785f4-5f18-48c7-cae3-61edacfff685"
      },
      "outputs": [
        {
          "output_type": "execute_result",
          "data": {
            "text/plain": [
              "Text(0, 0.5, 'Frequency')"
            ]
          },
          "metadata": {},
          "execution_count": 20
        },
        {
          "output_type": "display_data",
          "data": {
            "text/plain": [
              "<Figure size 640x480 with 1 Axes>"
            ],
            "image/png": "[encoded data removed]"
          },
          "metadata": {}
        }
      ],
      "source": [
        "count_classes = pd.value_counts(y_res, sort = True)\n",
        "count_classes.plot(kind = 'bar', rot=0)\n",
        "plt.title(\"After Upsampling\")\n",
        "plt.xticks()\n",
        "plt.xlabel(\"alarmtype\")\n",
        "plt.ylabel(\"Frequency\")"
      ]
    },
    {
      "cell_type": "markdown",
      "id": "5364d30d",
      "metadata": {
        "id": "5364d30d"
      },
      "source": [
        "# Encoding and Scaling"
      ]
    },
    {
      "cell_type": "code",
      "execution_count": 21,
      "id": "c1d6e020",
      "metadata": {
        "id": "c1d6e020"
      },
      "outputs": [],
      "source": [
        "y_res, label = pd.factorize(y_res)"
      ]
    },
    {
      "cell_type": "code",
      "execution_count": 22,
      "id": "35751a40",
      "metadata": {
        "id": "35751a40",
        "colab": {
          "base_uri": "https://localhost:8080/"
        },
        "outputId": "b70cdcb8-1f72-4424-920d-a8ab45a4ec88"
      },
      "outputs": [
        {
          "output_type": "stream",
          "name": "stdout",
          "text": [
            "Index(['PCW', 'FCW', 'Overspeed', 'HMW', 'UFCW', 'LDWL', 'LDWR'], dtype='object')\n"
          ]
        }
      ],
      "source": [
        "print(label)"
      ]
    },
    {
      "cell_type": "code",
      "execution_count": 23,
      "id": "5159512c",
      "metadata": {
        "id": "5159512c",
        "colab": {
          "base_uri": "https://localhost:8080/"
        },
        "outputId": "f7945fd4-d288-4126-944b-47e0ed6609bf"
      },
      "outputs": [
        {
          "output_type": "stream",
          "name": "stdout",
          "text": [
            "0          PCW\n",
            "1          PCW\n",
            "2          FCW\n",
            "3          FCW\n",
            "4    Overspeed\n",
            "Name: deviceCode_pyld_alarmType, dtype: object\n"
          ]
        }
      ],
      "source": [
        "print(y.head())"
      ]
    },
    {
      "cell_type": "code",
      "execution_count": 24,
      "id": "509e70a4",
      "metadata": {
        "id": "509e70a4"
      },
      "outputs": [],
      "source": [
        "#Standarization\n",
        "from sklearn.preprocessing import StandardScaler"
      ]
    },
    {
      "cell_type": "code",
      "execution_count": 25,
      "id": "fdd15d02",
      "metadata": {
        "id": "fdd15d02"
      },
      "outputs": [],
      "source": [
        "scaler = StandardScaler()"
      ]
    },
    {
      "cell_type": "code",
      "execution_count": 26,
      "id": "fb9dc509",
      "metadata": {
        "id": "fb9dc509"
      },
      "outputs": [],
      "source": [
        "x.iloc[:,:] = scaler.fit_transform(x.iloc[:,:])"
      ]
    },
    {
      "cell_type": "code",
      "execution_count": 27,
      "id": "a7c579e7",
      "metadata": {
        "id": "a7c579e7",
        "colab": {
          "base_uri": "https://localhost:8080/",
          "height": 206
        },
        "outputId": "c53d165d-23cb-4a71-c8ce-876e9ca7d333"
      },
      "outputs": [
        {
          "output_type": "execute_result",
          "data": {
            "text/plain": [
              "   deviceCode_location_latitude  deviceCode_location_longitude  \\\n",
              "0                      0.513739                       0.743451   \n",
              "1                      0.513739                       0.743451   \n",
              "2                      0.610233                       0.643886   \n",
              "3                      0.610233                       0.643886   \n",
              "4                      0.620106                       0.608053   \n",
              "\n",
              "   deviceCode_pyld_speed  \n",
              "0               0.712843  \n",
              "1               0.712843  \n",
              "2               1.367383  \n",
              "3               1.367383  \n",
              "4               1.076476  "
            ],
            "text/html": [
              "\n",
              "  <div id=\"df-cc4258d8-c350-4153-9eae-6e62e4d985d6\" class=\"colab-df-container\">\n",
              "    <div>\n",
              "<style scoped>\n",
              "    .dataframe tbody tr th:only-of-type {\n",
              "        vertical-align: middle;\n",
              "    }\n",
              "\n",
              "    .dataframe tbody tr th {\n",
              "        vertical-align: top;\n",
              "    }\n",
              "\n",
              "    .dataframe thead th {\n",
              "        text-align: right;\n",
              "    }\n",
              "</style>\n",
              "<table border=\"1\" class=\"dataframe\">\n",
              "  <thead>\n",
              "    <tr style=\"text-align: right;\">\n",
              "      <th></th>\n",
              "      <th>deviceCode_location_latitude</th>\n",
              "      <th>deviceCode_location_longitude</th>\n",
              "      <th>deviceCode_pyld_speed</th>\n",
              "    </tr>\n",
              "  </thead>\n",
              "  <tbody>\n",
              "    <tr>\n",
              "      <th>0</th>\n",
              "      <td>0.513739</td>\n",
              "      <td>0.743451</td>\n",
              "      <td>0.712843</td>\n",
              "    </tr>\n",
              "    <tr>\n",
              "      <th>1</th>\n",
              "      <td>0.513739</td>\n",
              "      <td>0.743451</td>\n",
              "      <td>0.712843</td>\n",
              "    </tr>\n",
              "    <tr>\n",
              "      <th>2</th>\n",
              "      <td>0.610233</td>\n",
              "      <td>0.643886</td>\n",
              "      <td>1.367383</td>\n",
              "    </tr>\n",
              "    <tr>\n",
              "      <th>3</th>\n",
              "      <td>0.610233</td>\n",
              "      <td>0.643886</td>\n",
              "      <td>1.367383</td>\n",
              "    </tr>\n",
              "    <tr>\n",
              "      <th>4</th>\n",
              "      <td>0.620106</td>\n",
              "      <td>0.608053</td>\n",
              "      <td>1.076476</td>\n",
              "    </tr>\n",
              "  </tbody>\n",
              "</table>\n",
              "</div>\n",
              "    <div class=\"colab-df-buttons\">\n",
              "\n",
              "  <div class=\"colab-df-container\">\n",
              "    <button class=\"colab-df-convert\" onclick=\"convertToInteractive('df-cc4258d8-c350-4153-9eae-6e62e4d985d6')\"\n",
              "            title=\"Convert this dataframe to an interactive table.\"\n",
              "            style=\"display:none;\">\n",
              "\n",
              "  <svg xmlns=\"http://www.w3.org/2000/svg\" height=\"24px\" viewBox=\"0 -960 960 960\">\n",
              "    <path d=\"M120-120v-720h720v720H120Zm60-500h600v-160H180v160Zm220 220h160v-160H400v160Zm0 220h160v-160H400v160ZM180-400h160v-160H180v160Zm440 0h160v-160H620v160ZM180-180h160v-160H180v160Zm440 0h160v-160H620v160Z\"/>\n",
              "  </svg>\n",
              "    </button>\n",
              "\n",
              "  <style>\n",
              "    .colab-df-container {\n",
              "      display:flex;\n",
              "      gap: 12px;\n",
              "    }\n",
              "\n",
              "    .colab-df-convert {\n",
              "      background-color: #E8F0FE;\n",
              "      border: none;\n",
              "      border-radius: 50%;\n",
              "      cursor: pointer;\n",
              "      display: none;\n",
              "      fill: #1967D2;\n",
              "      height: 32px;\n",
              "      padding: 0 0 0 0;\n",
              "      width: 32px;\n",
              "    }\n",
              "\n",
              "    .colab-df-convert:hover {\n",
              "      background-color: #E2EBFA;\n",
              "      box-shadow: 0px 1px 2px rgba(60, 64, 67, 0.3), 0px 1px 3px 1px rgba(60, 64, 67, 0.15);\n",
              "      fill: #174EA6;\n",
              "    }\n",
              "\n",
              "    .colab-df-buttons div {\n",
              "      margin-bottom: 4px;\n",
              "    }\n",
              "\n",
              "    [theme=dark] .colab-df-convert {\n",
              "      background-color: #3B4455;\n",
              "      fill: #D2E3FC;\n",
              "    }\n",
              "\n",
              "    [theme=dark] .colab-df-convert:hover {\n",
              "      background-color: #434B5C;\n",
              "      box-shadow: 0px 1px 3px 1px rgba(0, 0, 0, 0.15);\n",
              "      filter: drop-shadow(0px 1px 2px rgba(0, 0, 0, 0.3));\n",
              "      fill: #FFFFFF;\n",
              "    }\n",
              "  </style>\n",
              "\n",
              "    <script>\n",
              "      const buttonEl =\n",
              "        document.querySelector('#df-cc4258d8-c350-4153-9eae-6e62e4d985d6 button.colab-df-convert');\n",
              "      buttonEl.style.display =\n",
              "        google.colab.kernel.accessAllowed ? 'block' : 'none';\n",
              "\n",
              "      async function convertToInteractive(key) {\n",
              "        const element = document.querySelector('#df-cc4258d8-c350-4153-9eae-6e62e4d985d6');\n",
              "        const dataTable =\n",
              "          await google.colab.kernel.invokeFunction('convertToInteractive',\n",
              "                                                    [key], {});\n",
              "        if (!dataTable) return;\n",
              "\n",
              "        const docLinkHtml = 'Like what you see? Visit the ' +\n",
              "          '<a target=\"_blank\" href=https://colab.research.google.com/notebooks/data_table.ipynb>data table notebook</a>'\n",
              "          + ' to learn more about interactive tables.';\n",
              "        element.innerHTML = '';\n",
              "        dataTable['output_type'] = 'display_data';\n",
              "        await google.colab.output.renderOutput(dataTable, element);\n",
              "        const docLink = document.createElement('div');\n",
              "        docLink.innerHTML = docLinkHtml;\n",
              "        element.appendChild(docLink);\n",
              "      }\n",
              "    </script>\n",
              "  </div>\n",
              "\n",
              "\n",
              "<div id=\"df-ee946018-fb53-4abd-aacc-988c6d88fba8\">\n",
              "  <button class=\"colab-df-quickchart\" onclick=\"quickchart('df-ee946018-fb53-4abd-aacc-988c6d88fba8')\"\n",
              "            title=\"Suggest charts\"\n",
              "            style=\"display:none;\">\n",
              "\n",
              "<svg xmlns=\"http://www.w3.org/2000/svg\" height=\"24px\"viewBox=\"0 0 24 24\"\n",
              "     width=\"24px\">\n",
              "    <g>\n",
              "        <path d=\"M19 3H5c-1.1 0-2 .9-2 2v14c0 1.1.9 2 2 2h14c1.1 0 2-.9 2-2V5c0-1.1-.9-2-2-2zM9 17H7v-7h2v7zm4 0h-2V7h2v10zm4 0h-2v-4h2v4z\"/>\n",
              "    </g>\n",
              "</svg>\n",
              "  </button>\n",
              "\n",
              "<style>\n",
              "  .colab-df-quickchart {\n",
              "      --bg-color: #E8F0FE;\n",
              "      --fill-color: #1967D2;\n",
              "      --hover-bg-color: #E2EBFA;\n",
              "      --hover-fill-color: #174EA6;\n",
              "      --disabled-fill-color: #AAA;\n",
              "      --disabled-bg-color: #DDD;\n",
              "  }\n",
              "\n",
              "  [theme=dark] .colab-df-quickchart {\n",
              "      --bg-color: #3B4455;\n",
              "      --fill-color: #D2E3FC;\n",
              "      --hover-bg-color: #434B5C;\n",
              "      --hover-fill-color: #FFFFFF;\n",
              "      --disabled-bg-color: #3B4455;\n",
              "      --disabled-fill-color: #666;\n",
              "  }\n",
              "\n",
              "  .colab-df-quickchart {\n",
              "    background-color: var(--bg-color);\n",
              "    border: none;\n",
              "    border-radius: 50%;\n",
              "    cursor: pointer;\n",
              "    display: none;\n",
              "    fill: var(--fill-color);\n",
              "    height: 32px;\n",
              "    padding: 0;\n",
              "    width: 32px;\n",
              "  }\n",
              "\n",
              "  .colab-df-quickchart:hover {\n",
              "    background-color: var(--hover-bg-color);\n",
              "    box-shadow: 0 1px 2px rgba(60, 64, 67, 0.3), 0 1px 3px 1px rgba(60, 64, 67, 0.15);\n",
              "    fill: var(--button-hover-fill-color);\n",
              "  }\n",
              "\n",
              "  .colab-df-quickchart-complete:disabled,\n",
              "  .colab-df-quickchart-complete:disabled:hover {\n",
              "    background-color: var(--disabled-bg-color);\n",
              "    fill: var(--disabled-fill-color);\n",
              "    box-shadow: none;\n",
              "  }\n",
              "\n",
              "  .colab-df-spinner {\n",
              "    border: 2px solid var(--fill-color);\n",
              "    border-color: transparent;\n",
              "    border-bottom-color: var(--fill-color);\n",
              "    animation:\n",
              "      spin 1s steps(1) infinite;\n",
              "  }\n",
              "\n",
              "  @keyframes spin {\n",
              "    0% {\n",
              "      border-color: transparent;\n",
              "      border-bottom-color: var(--fill-color);\n",
              "      border-left-color: var(--fill-color);\n",
              "    }\n",
              "    20% {\n",
              "      border-color: transparent;\n",
              "      border-left-color: var(--fill-color);\n",
              "      border-top-color: var(--fill-color);\n",
              "    }\n",
              "    30% {\n",
              "      border-color: transparent;\n",
              "      border-left-color: var(--fill-color);\n",
              "      border-top-color: var(--fill-color);\n",
              "      border-right-color: var(--fill-color);\n",
              "    }\n",
              "    40% {\n",
              "      border-color: transparent;\n",
              "      border-right-color: var(--fill-color);\n",
              "      border-top-color: var(--fill-color);\n",
              "    }\n",
              "    60% {\n",
              "      border-color: transparent;\n",
              "      border-right-color: var(--fill-color);\n",
              "    }\n",
              "    80% {\n",
              "      border-color: transparent;\n",
              "      border-right-color: var(--fill-color);\n",
              "      border-bottom-color: var(--fill-color);\n",
              "    }\n",
              "    90% {\n",
              "      border-color: transparent;\n",
              "      border-bottom-color: var(--fill-color);\n",
              "    }\n",
              "  }\n",
              "</style>\n",
              "\n",
              "  <script>\n",
              "    async function quickchart(key) {\n",
              "      const quickchartButtonEl =\n",
              "        document.querySelector('#' + key + ' button');\n",
              "      quickchartButtonEl.disabled = true;  // To prevent multiple clicks.\n",
              "      quickchartButtonEl.classList.add('colab-df-spinner');\n",
              "      try {\n",
              "        const charts = await google.colab.kernel.invokeFunction(\n",
              "            'suggestCharts', [key], {});\n",
              "      } catch (error) {\n",
              "        console.error('Error during call to suggestCharts:', error);\n",
              "      }\n",
              "      quickchartButtonEl.classList.remove('colab-df-spinner');\n",
              "      quickchartButtonEl.classList.add('colab-df-quickchart-complete');\n",
              "    }\n",
              "    (() => {\n",
              "      let quickchartButtonEl =\n",
              "        document.querySelector('#df-ee946018-fb53-4abd-aacc-988c6d88fba8 button');\n",
              "      quickchartButtonEl.style.display =\n",
              "        google.colab.kernel.accessAllowed ? 'block' : 'none';\n",
              "    })();\n",
              "  </script>\n",
              "</div>\n",
              "\n",
              "    </div>\n",
              "  </div>\n"
            ],
            "application/vnd.google.colaboratory.intrinsic+json": {
              "type": "dataframe",
              "variable_name": "x"
            }
          },
          "metadata": {},
          "execution_count": 27
        }
      ],
      "source": [
        "x.head()"
      ]
    },
    {
      "cell_type": "markdown",
      "id": "85d5701f",
      "metadata": {
        "id": "85d5701f"
      },
      "source": [
        "# Train Test Split"
      ]
    },
    {
      "cell_type": "code",
      "execution_count": 28,
      "id": "7de7cb12",
      "metadata": {
        "id": "7de7cb12"
      },
      "outputs": [],
      "source": [
        "from sklearn.model_selection import train_test_split\n",
        "x_train, x_test, y_train, y_test = train_test_split(x_res, y_res, test_size=0.30, random_state=5)"
      ]
    },
    {
      "cell_type": "code",
      "execution_count": 29,
      "id": "bd0c4902",
      "metadata": {
        "id": "bd0c4902",
        "colab": {
          "base_uri": "https://localhost:8080/"
        },
        "outputId": "a2cb03fa-b07e-4197-c905-4feeb542c808"
      },
      "outputs": [
        {
          "output_type": "stream",
          "name": "stdout",
          "text": [
            "(403882, 3)\n",
            "(173093, 3)\n",
            "(403882,)\n",
            "(173093,)\n"
          ]
        }
      ],
      "source": [
        "print(x_train.shape)\n",
        "print(x_test.shape)\n",
        "print(y_train.shape)\n",
        "print(y_test.shape)"
      ]
    },
    {
      "cell_type": "markdown",
      "id": "6d29d8a1",
      "metadata": {
        "id": "6d29d8a1"
      },
      "source": [
        "# Implementing ML Algorithms"
      ]
    },
    {
      "cell_type": "code",
      "execution_count": 30,
      "id": "f9e1b3ab",
      "metadata": {
        "id": "f9e1b3ab",
        "colab": {
          "base_uri": "https://localhost:8080/"
        },
        "outputId": "d055c9d4-2915-432a-c658-8238e135e352"
      },
      "outputs": [
        {
          "output_type": "execute_result",
          "data": {
            "text/plain": [
              "0.7573096543476628"
            ]
          },
          "metadata": {},
          "execution_count": 30
        }
      ],
      "source": [
        "from sklearn.neighbors import KNeighborsClassifier\n",
        "knn = KNeighborsClassifier()\n",
        "knn.fit(x_train,y_train)\n",
        "knn_accuracy = knn.score(x_test, y_test)\n",
        "knn_accuracy"
      ]
    },
    {
      "cell_type": "code",
      "execution_count": 31,
      "id": "66dff212",
      "metadata": {
        "id": "66dff212",
        "colab": {
          "base_uri": "https://localhost:8080/"
        },
        "outputId": "69402a55-465d-42a2-aeca-7471fc7abbdb"
      },
      "outputs": [
        {
          "output_type": "execute_result",
          "data": {
            "text/plain": [
              "0.7988133546706105"
            ]
          },
          "metadata": {},
          "execution_count": 31
        }
      ],
      "source": [
        "from sklearn.tree import DecisionTreeClassifier\n",
        "dt = DecisionTreeClassifier(random_state=5)\n",
        "dt.fit(x_train,y_train)\n",
        "pred_dt = dt.predict(x_test)\n",
        "dt_accuracy=dt.score(x_test, y_test)\n",
        "dt_accuracy"
      ]
    },
    {
      "cell_type": "code",
      "execution_count": 32,
      "id": "6ea8dda8",
      "metadata": {
        "id": "6ea8dda8",
        "colab": {
          "base_uri": "https://localhost:8080/"
        },
        "outputId": "fd931a4d-56ba-4fdb-ca35-d5e7e301b53a"
      },
      "outputs": [
        {
          "output_type": "execute_result",
          "data": {
            "text/plain": [
              "0.831743629147337"
            ]
          },
          "metadata": {},
          "execution_count": 32
        }
      ],
      "source": [
        "#Random Forest with best accuracy\n",
        "from sklearn.ensemble import RandomForestClassifier\n",
        "randf = RandomForestClassifier(random_state=5)\n",
        "randf.fit(x_train,y_train)\n",
        "pred_randf = randf.predict(x_test)\n",
        "#pred_randf_with_categorical_value = le.inverse_transform(pred_randf)\n",
        "#print(pred_randf_with_categorical_value)\n",
        "randf_accuracy = randf.score(x_test, y_test)\n",
        "randf_accuracy"
      ]
    },
    {
      "cell_type": "code",
      "execution_count": 33,
      "id": "024cb5e3",
      "metadata": {
        "id": "024cb5e3",
        "colab": {
          "base_uri": "https://localhost:8080/"
        },
        "outputId": "251202dc-c738-4b48-cce9-4285b619ad1b"
      },
      "outputs": [
        {
          "output_type": "stream",
          "name": "stdout",
          "text": [
            "(173093,)\n"
          ]
        }
      ],
      "source": [
        "print(pred_randf.shape)"
      ]
    },
    {
      "cell_type": "code",
      "execution_count": 34,
      "id": "8df7e7f1",
      "metadata": {
        "id": "8df7e7f1",
        "colab": {
          "base_uri": "https://localhost:8080/"
        },
        "outputId": "0419d9fe-1143-4ecd-b257-b1be28cd23e3"
      },
      "outputs": [
        {
          "output_type": "execute_result",
          "data": {
            "text/plain": [
              "0.5456604253204924"
            ]
          },
          "metadata": {},
          "execution_count": 34
        }
      ],
      "source": [
        "from sklearn.ensemble import GradientBoostingClassifier\n",
        "gb = GradientBoostingClassifier(random_state=5)\n",
        "gb.fit(x_train,y_train)\n",
        "gb_accuracy=gb.score(x_test, y_test)\n",
        "gb_accuracy"
      ]
    },
    {
      "cell_type": "code",
      "execution_count": 35,
      "id": "74218aad",
      "metadata": {
        "id": "74218aad",
        "colab": {
          "base_uri": "https://localhost:8080/"
        },
        "outputId": "9ec0143e-7897-47c6-e457-82dc59737279"
      },
      "outputs": [
        {
          "output_type": "execute_result",
          "data": {
            "text/plain": [
              "0.4036269519853489"
            ]
          },
          "metadata": {},
          "execution_count": 35
        }
      ],
      "source": [
        "from sklearn.ensemble import AdaBoostClassifier\n",
        "adab = AdaBoostClassifier(random_state=5)\n",
        "adab.fit(x_train,y_train)\n",
        "adab_accuracy=adab.score(x_test, y_test)\n",
        "adab_accuracy"
      ]
    },
    {
      "cell_type": "code",
      "execution_count": 36,
      "id": "c101c600",
      "metadata": {
        "id": "c101c600",
        "colab": {
          "base_uri": "https://localhost:8080/"
        },
        "outputId": "e7bbca8f-d994-4b4d-bc8c-0d70acfc60eb"
      },
      "outputs": [
        {
          "output_type": "execute_result",
          "data": {
            "text/plain": [
              "0.6549600503775427"
            ]
          },
          "metadata": {},
          "execution_count": 36
        }
      ],
      "source": [
        "import xgboost\n",
        "from xgboost import XGBClassifier\n",
        "xgb = XGBClassifier()\n",
        "xgb.fit(x_train, y_train)\n",
        "xgb_accuracy=xgb.score(x_test, y_test)\n",
        "xgb_accuracy"
      ]
    },
    {
      "cell_type": "code",
      "execution_count": 37,
      "id": "a7395470",
      "metadata": {
        "id": "a7395470",
        "colab": {
          "base_uri": "https://localhost:8080/"
        },
        "outputId": "af326e00-e8bf-4e40-ff0e-4e7402b22d60"
      },
      "outputs": [
        {
          "output_type": "stream",
          "name": "stderr",
          "text": [
            "/usr/local/lib/python3.10/dist-packages/sklearn/linear_model/_logistic.py:458: ConvergenceWarning: lbfgs failed to converge (status=1):\n",
            "STOP: TOTAL NO. of ITERATIONS REACHED LIMIT.\n",
            "\n",
            "Increase the number of iterations (max_iter) or scale the data as shown in:\n",
            "    https://scikit-learn.org/stable/modules/preprocessing.html\n",
            "Please also refer to the documentation for alternative solver options:\n",
            "    https://scikit-learn.org/stable/modules/linear_model.html#logistic-regression\n",
            "  n_iter_i = _check_optimize_result(\n"
          ]
        },
        {
          "output_type": "execute_result",
          "data": {
            "text/plain": [
              "0.3700958444304507"
            ]
          },
          "metadata": {},
          "execution_count": 37
        }
      ],
      "source": [
        "from sklearn.linear_model import LogisticRegression\n",
        "logreg = LogisticRegression(random_state=5)\n",
        "logreg.fit(x_train, y_train)\n",
        "logreg_accuracy=logreg.score(x_test, y_test)\n",
        "logreg_accuracy"
      ]
    },
    {
      "cell_type": "code",
      "execution_count": 38,
      "id": "63dc0991",
      "metadata": {
        "id": "63dc0991",
        "colab": {
          "base_uri": "https://localhost:8080/"
        },
        "outputId": "148bba18-f8bd-4073-8400-23591333feef"
      },
      "outputs": [
        {
          "output_type": "execute_result",
          "data": {
            "text/plain": [
              "0.38263823493728805"
            ]
          },
          "metadata": {},
          "execution_count": 38
        }
      ],
      "source": [
        "from sklearn.naive_bayes import GaussianNB\n",
        "nb = GaussianNB()\n",
        "nb.fit(x_train, y_train)\n",
        "nb_accuracy=nb.score(x_test, y_test)\n",
        "nb_accuracy"
      ]
    },
    {
      "cell_type": "markdown",
      "id": "35032153",
      "metadata": {
        "id": "35032153"
      },
      "source": [
        "# Saving above ML Models"
      ]
    },
    {
      "cell_type": "code",
      "execution_count": 39,
      "id": "caff10e8",
      "metadata": {
        "id": "caff10e8"
      },
      "outputs": [],
      "source": [
        "import joblib as jb"
      ]
    },
    {
      "cell_type": "code",
      "execution_count": 40,
      "id": "29879826",
      "metadata": {
        "id": "29879826",
        "colab": {
          "base_uri": "https://localhost:8080/"
        },
        "outputId": "291b24a8-e892-4c5f-b86c-0d73c59c014c"
      },
      "outputs": [
        {
          "output_type": "execute_result",
          "data": {
            "text/plain": [
              "['nb']"
            ]
          },
          "metadata": {},
          "execution_count": 40
        }
      ],
      "source": [
        "#Saving models using Joblib\n",
        "jb.dump(knn,'knn')\n",
        "jb.dump(dt,'dt')\n",
        "jb.dump(randf,'randf')\n",
        "jb.dump(gb,'gb')\n",
        "jb.dump(adab,'adab')\n",
        "jb.dump(xgb,'xgb')\n",
        "jb.dump(logreg,'logreg')\n",
        "jb.dump(nb,'nb')"
      ]
    },
    {
      "cell_type": "code",
      "execution_count": 41,
      "id": "78bab4e1",
      "metadata": {
        "id": "78bab4e1"
      },
      "outputs": [],
      "source": [
        "#Loading those saved models\n",
        "import joblib as jb\n",
        "knn_default = jb.load('knn')\n",
        "dt_default =  jb.load('dt')\n",
        "randf_default =  jb.load('randf')\n",
        "gb_default =  jb.load('gb')\n",
        "adab_default =  jb.load('adab')\n",
        "xgb_default =  jb.load('xgb')\n",
        "logreg_default =  jb.load('logreg')\n",
        "nb_default =  jb.load('nb')"
      ]
    },
    {
      "cell_type": "code",
      "execution_count": 42,
      "id": "0609c614",
      "metadata": {
        "id": "0609c614",
        "colab": {
          "base_uri": "https://localhost:8080/"
        },
        "outputId": "0c90f009-a8dc-44d9-9a52-2a46b2e3f9b8"
      },
      "outputs": [
        {
          "output_type": "stream",
          "name": "stdout",
          "text": [
            "KNN accuracy           :  0.7573096543476628\n",
            "Decision Tree accuracy :  0.7988133546706105\n",
            "Random Forest accuracy :  0.831743629147337\n",
            "Gradient Boosting      :  0.5456604253204924\n",
            "AdaBoost accuracy      :  0.4036269519853489\n",
            "XGBoost accuracy       :  0.6549600503775427\n",
            "Logistic Regression    :  0.3700958444304507\n",
            "Naive Bayes accuracy   :  0.38263823493728805\n"
          ]
        }
      ],
      "source": [
        "#Printing accuracy from the saved model files\n",
        "print(\"KNN accuracy           : \", knn_default.score(x_test,y_test))\n",
        "print(\"Decision Tree accuracy : \", dt_default.score(x_test,y_test))\n",
        "\n",
        "print(\"Random Forest accuracy : \", randf_default.score(x_test,y_test))\n",
        "print(\"Gradient Boosting      : \", gb_default.score(x_test,y_test))\n",
        "print(\"AdaBoost accuracy      : \", adab_default.score(x_test,y_test))\n",
        "print(\"XGBoost accuracy       : \", xgb_default.score(x_test,y_test))\n",
        "print(\"Logistic Regression    : \", logreg_default.score(x_test,y_test))\n",
        "print(\"Naive Bayes accuracy   : \", nb_default.score(x_test,y_test))"
      ]
    },
    {
      "cell_type": "markdown",
      "id": "edf1ffe5",
      "metadata": {
        "id": "edf1ffe5"
      },
      "source": [
        "# Model Performance Evaluation"
      ]
    },
    {
      "cell_type": "markdown",
      "id": "e330baa0",
      "metadata": {
        "id": "e330baa0"
      },
      "source": [
        "### Accuracy Comparison of Algorithms"
      ]
    },
    {
      "cell_type": "code",
      "execution_count": 43,
      "id": "706028e2",
      "metadata": {
        "id": "706028e2",
        "colab": {
          "base_uri": "https://localhost:8080/",
          "height": 300
        },
        "outputId": "a32366a7-d5ed-49af-81bf-d65a78fdb80a"
      },
      "outputs": [
        {
          "output_type": "execute_result",
          "data": {
            "text/plain": [
              "             Algorithm  Accuracy (in percent)\n",
              "0  K Nearest Neighbors                  75.73\n",
              "1        Decision Tree                  79.88\n",
              "2        Random Forest                  83.17\n",
              "3       Gradient Boost                  54.56\n",
              "4            Ada Boost                  40.36\n",
              "5              XGBoost                  65.49\n",
              "6  Logistic Regression                  37.00\n",
              "7          Naive Bayes                  38.26"
            ],
            "text/html": [
              "\n",
              "  <div id=\"df-71034bdd-41bd-41ec-aae9-1f9a5bf3d0cd\" class=\"colab-df-container\">\n",
              "    <div>\n",
              "<style scoped>\n",
              "    .dataframe tbody tr th:only-of-type {\n",
              "        vertical-align: middle;\n",
              "    }\n",
              "\n",
              "    .dataframe tbody tr th {\n",
              "        vertical-align: top;\n",
              "    }\n",
              "\n",
              "    .dataframe thead th {\n",
              "        text-align: right;\n",
              "    }\n",
              "</style>\n",
              "<table border=\"1\" class=\"dataframe\">\n",
              "  <thead>\n",
              "    <tr style=\"text-align: right;\">\n",
              "      <th></th>\n",
              "      <th>Algorithm</th>\n",
              "      <th>Accuracy (in percent)</th>\n",
              "    </tr>\n",
              "  </thead>\n",
              "  <tbody>\n",
              "    <tr>\n",
              "      <th>0</th>\n",
              "      <td>K Nearest Neighbors</td>\n",
              "      <td>75.73</td>\n",
              "    </tr>\n",
              "    <tr>\n",
              "      <th>1</th>\n",
              "      <td>Decision Tree</td>\n",
              "      <td>79.88</td>\n",
              "    </tr>\n",
              "    <tr>\n",
              "      <th>2</th>\n",
              "      <td>Random Forest</td>\n",
              "      <td>83.17</td>\n",
              "    </tr>\n",
              "    <tr>\n",
              "      <th>3</th>\n",
              "      <td>Gradient Boost</td>\n",
              "      <td>54.56</td>\n",
              "    </tr>\n",
              "    <tr>\n",
              "      <th>4</th>\n",
              "      <td>Ada Boost</td>\n",
              "      <td>40.36</td>\n",
              "    </tr>\n",
              "    <tr>\n",
              "      <th>5</th>\n",
              "      <td>XGBoost</td>\n",
              "      <td>65.49</td>\n",
              "    </tr>\n",
              "    <tr>\n",
              "      <th>6</th>\n",
              "      <td>Logistic Regression</td>\n",
              "      <td>37.00</td>\n",
              "    </tr>\n",
              "    <tr>\n",
              "      <th>7</th>\n",
              "      <td>Naive Bayes</td>\n",
              "      <td>38.26</td>\n",
              "    </tr>\n",
              "  </tbody>\n",
              "</table>\n",
              "</div>\n",
              "    <div class=\"colab-df-buttons\">\n",
              "\n",
              "  <div class=\"colab-df-container\">\n",
              "    <button class=\"colab-df-convert\" onclick=\"convertToInteractive('df-71034bdd-41bd-41ec-aae9-1f9a5bf3d0cd')\"\n",
              "            title=\"Convert this dataframe to an interactive table.\"\n",
              "            style=\"display:none;\">\n",
              "\n",
              "  <svg xmlns=\"http://www.w3.org/2000/svg\" height=\"24px\" viewBox=\"0 -960 960 960\">\n",
              "    <path d=\"M120-120v-720h720v720H120Zm60-500h600v-160H180v160Zm220 220h160v-160H400v160Zm0 220h160v-160H400v160ZM180-400h160v-160H180v160Zm440 0h160v-160H620v160ZM180-180h160v-160H180v160Zm440 0h160v-160H620v160Z\"/>\n",
              "  </svg>\n",
              "    </button>\n",
              "\n",
              "  <style>\n",
              "    .colab-df-container {\n",
              "      display:flex;\n",
              "      gap: 12px;\n",
              "    }\n",
              "\n",
              "    .colab-df-convert {\n",
              "      background-color: #E8F0FE;\n",
              "      border: none;\n",
              "      border-radius: 50%;\n",
              "      cursor: pointer;\n",
              "      display: none;\n",
              "      fill: #1967D2;\n",
              "      height: 32px;\n",
              "      padding: 0 0 0 0;\n",
              "      width: 32px;\n",
              "    }\n",
              "\n",
              "    .colab-df-convert:hover {\n",
              "      background-color: #E2EBFA;\n",
              "      box-shadow: 0px 1px 2px rgba(60, 64, 67, 0.3), 0px 1px 3px 1px rgba(60, 64, 67, 0.15);\n",
              "      fill: #174EA6;\n",
              "    }\n",
              "\n",
              "    .colab-df-buttons div {\n",
              "      margin-bottom: 4px;\n",
              "    }\n",
              "\n",
              "    [theme=dark] .colab-df-convert {\n",
              "      background-color: #3B4455;\n",
              "      fill: #D2E3FC;\n",
              "    }\n",
              "\n",
              "    [theme=dark] .colab-df-convert:hover {\n",
              "      background-color: #434B5C;\n",
              "      box-shadow: 0px 1px 3px 1px rgba(0, 0, 0, 0.15);\n",
              "      filter: drop-shadow(0px 1px 2px rgba(0, 0, 0, 0.3));\n",
              "      fill: #FFFFFF;\n",
              "    }\n",
              "  </style>\n",
              "\n",
              "    <script>\n",
              "      const buttonEl =\n",
              "        document.querySelector('#df-71034bdd-41bd-41ec-aae9-1f9a5bf3d0cd button.colab-df-convert');\n",
              "      buttonEl.style.display =\n",
              "        google.colab.kernel.accessAllowed ? 'block' : 'none';\n",
              "\n",
              "      async function convertToInteractive(key) {\n",
              "        const element = document.querySelector('#df-71034bdd-41bd-41ec-aae9-1f9a5bf3d0cd');\n",
              "        const dataTable =\n",
              "          await google.colab.kernel.invokeFunction('convertToInteractive',\n",
              "                                                    [key], {});\n",
              "        if (!dataTable) return;\n",
              "\n",
              "        const docLinkHtml = 'Like what you see? Visit the ' +\n",
              "          '<a target=\"_blank\" href=https://colab.research.google.com/notebooks/data_table.ipynb>data table notebook</a>'\n",
              "          + ' to learn more about interactive tables.';\n",
              "        element.innerHTML = '';\n",
              "        dataTable['output_type'] = 'display_data';\n",
              "        await google.colab.output.renderOutput(dataTable, element);\n",
              "        const docLink = document.createElement('div');\n",
              "        docLink.innerHTML = docLinkHtml;\n",
              "        element.appendChild(docLink);\n",
              "      }\n",
              "    </script>\n",
              "  </div>\n",
              "\n",
              "\n",
              "<div id=\"df-84c61a60-8842-4019-b2bc-2fbb59093a85\">\n",
              "  <button class=\"colab-df-quickchart\" onclick=\"quickchart('df-84c61a60-8842-4019-b2bc-2fbb59093a85')\"\n",
              "            title=\"Suggest charts\"\n",
              "            style=\"display:none;\">\n",
              "\n",
              "<svg xmlns=\"http://www.w3.org/2000/svg\" height=\"24px\"viewBox=\"0 0 24 24\"\n",
              "     width=\"24px\">\n",
              "    <g>\n",
              "        <path d=\"M19 3H5c-1.1 0-2 .9-2 2v14c0 1.1.9 2 2 2h14c1.1 0 2-.9 2-2V5c0-1.1-.9-2-2-2zM9 17H7v-7h2v7zm4 0h-2V7h2v10zm4 0h-2v-4h2v4z\"/>\n",
              "    </g>\n",
              "</svg>\n",
              "  </button>\n",
              "\n",
              "<style>\n",
              "  .colab-df-quickchart {\n",
              "      --bg-color: #E8F0FE;\n",
              "      --fill-color: #1967D2;\n",
              "      --hover-bg-color: #E2EBFA;\n",
              "      --hover-fill-color: #174EA6;\n",
              "      --disabled-fill-color: #AAA;\n",
              "      --disabled-bg-color: #DDD;\n",
              "  }\n",
              "\n",
              "  [theme=dark] .colab-df-quickchart {\n",
              "      --bg-color: #3B4455;\n",
              "      --fill-color: #D2E3FC;\n",
              "      --hover-bg-color: #434B5C;\n",
              "      --hover-fill-color: #FFFFFF;\n",
              "      --disabled-bg-color: #3B4455;\n",
              "      --disabled-fill-color: #666;\n",
              "  }\n",
              "\n",
              "  .colab-df-quickchart {\n",
              "    background-color: var(--bg-color);\n",
              "    border: none;\n",
              "    border-radius: 50%;\n",
              "    cursor: pointer;\n",
              "    display: none;\n",
              "    fill: var(--fill-color);\n",
              "    height: 32px;\n",
              "    padding: 0;\n",
              "    width: 32px;\n",
              "  }\n",
              "\n",
              "  .colab-df-quickchart:hover {\n",
              "    background-color: var(--hover-bg-color);\n",
              "    box-shadow: 0 1px 2px rgba(60, 64, 67, 0.3), 0 1px 3px 1px rgba(60, 64, 67, 0.15);\n",
              "    fill: var(--button-hover-fill-color);\n",
              "  }\n",
              "\n",
              "  .colab-df-quickchart-complete:disabled,\n",
              "  .colab-df-quickchart-complete:disabled:hover {\n",
              "    background-color: var(--disabled-bg-color);\n",
              "    fill: var(--disabled-fill-color);\n",
              "    box-shadow: none;\n",
              "  }\n",
              "\n",
              "  .colab-df-spinner {\n",
              "    border: 2px solid var(--fill-color);\n",
              "    border-color: transparent;\n",
              "    border-bottom-color: var(--fill-color);\n",
              "    animation:\n",
              "      spin 1s steps(1) infinite;\n",
              "  }\n",
              "\n",
              "  @keyframes spin {\n",
              "    0% {\n",
              "      border-color: transparent;\n",
              "      border-bottom-color: var(--fill-color);\n",
              "      border-left-color: var(--fill-color);\n",
              "    }\n",
              "    20% {\n",
              "      border-color: transparent;\n",
              "      border-left-color: var(--fill-color);\n",
              "      border-top-color: var(--fill-color);\n",
              "    }\n",
              "    30% {\n",
              "      border-color: transparent;\n",
              "      border-left-color: var(--fill-color);\n",
              "      border-top-color: var(--fill-color);\n",
              "      border-right-color: var(--fill-color);\n",
              "    }\n",
              "    40% {\n",
              "      border-color: transparent;\n",
              "      border-right-color: var(--fill-color);\n",
              "      border-top-color: var(--fill-color);\n",
              "    }\n",
              "    60% {\n",
              "      border-color: transparent;\n",
              "      border-right-color: var(--fill-color);\n",
              "    }\n",
              "    80% {\n",
              "      border-color: transparent;\n",
              "      border-right-color: var(--fill-color);\n",
              "      border-bottom-color: var(--fill-color);\n",
              "    }\n",
              "    90% {\n",
              "      border-color: transparent;\n",
              "      border-bottom-color: var(--fill-color);\n",
              "    }\n",
              "  }\n",
              "</style>\n",
              "\n",
              "  <script>\n",
              "    async function quickchart(key) {\n",
              "      const quickchartButtonEl =\n",
              "        document.querySelector('#' + key + ' button');\n",
              "      quickchartButtonEl.disabled = true;  // To prevent multiple clicks.\n",
              "      quickchartButtonEl.classList.add('colab-df-spinner');\n",
              "      try {\n",
              "        const charts = await google.colab.kernel.invokeFunction(\n",
              "            'suggestCharts', [key], {});\n",
              "      } catch (error) {\n",
              "        console.error('Error during call to suggestCharts:', error);\n",
              "      }\n",
              "      quickchartButtonEl.classList.remove('colab-df-spinner');\n",
              "      quickchartButtonEl.classList.add('colab-df-quickchart-complete');\n",
              "    }\n",
              "    (() => {\n",
              "      let quickchartButtonEl =\n",
              "        document.querySelector('#df-84c61a60-8842-4019-b2bc-2fbb59093a85 button');\n",
              "      quickchartButtonEl.style.display =\n",
              "        google.colab.kernel.accessAllowed ? 'block' : 'none';\n",
              "    })();\n",
              "  </script>\n",
              "</div>\n",
              "\n",
              "  <div id=\"id_3c311c1e-e1c7-49a4-8cd8-5cd07e45c0d4\">\n",
              "    <style>\n",
              "      .colab-df-generate {\n",
              "        background-color: #E8F0FE;\n",
              "        border: none;\n",
              "        border-radius: 50%;\n",
              "        cursor: pointer;\n",
              "        display: none;\n",
              "        fill: #1967D2;\n",
              "        height: 32px;\n",
              "        padding: 0 0 0 0;\n",
              "        width: 32px;\n",
              "      }\n",
              "\n",
              "      .colab-df-generate:hover {\n",
              "        background-color: #E2EBFA;\n",
              "        box-shadow: 0px 1px 2px rgba(60, 64, 67, 0.3), 0px 1px 3px 1px rgba(60, 64, 67, 0.15);\n",
              "        fill: #174EA6;\n",
              "      }\n",
              "\n",
              "      [theme=dark] .colab-df-generate {\n",
              "        background-color: #3B4455;\n",
              "        fill: #D2E3FC;\n",
              "      }\n",
              "\n",
              "      [theme=dark] .colab-df-generate:hover {\n",
              "        background-color: #434B5C;\n",
              "        box-shadow: 0px 1px 3px 1px rgba(0, 0, 0, 0.15);\n",
              "        filter: drop-shadow(0px 1px 2px rgba(0, 0, 0, 0.3));\n",
              "        fill: #FFFFFF;\n",
              "      }\n",
              "    </style>\n",
              "    <button class=\"colab-df-generate\" onclick=\"generateWithVariable('df_accuracy')\"\n",
              "            title=\"Generate code using this dataframe.\"\n",
              "            style=\"display:none;\">\n",
              "\n",
              "  <svg xmlns=\"http://www.w3.org/2000/svg\" height=\"24px\"viewBox=\"0 0 24 24\"\n",
              "       width=\"24px\">\n",
              "    <path d=\"M7,19H8.4L18.45,9,17,7.55,7,17.6ZM5,21V16.75L18.45,3.32a2,2,0,0,1,2.83,0l1.4,1.43a1.91,1.91,0,0,1,.58,1.4,1.91,1.91,0,0,1-.58,1.4L9.25,21ZM18.45,9,17,7.55Zm-12,3A5.31,5.31,0,0,0,4.9,8.1,5.31,5.31,0,0,0,1,6.5,5.31,5.31,0,0,0,4.9,4.9,5.31,5.31,0,0,0,6.5,1,5.31,5.31,0,0,0,8.1,4.9,5.31,5.31,0,0,0,12,6.5,5.46,5.46,0,0,0,6.5,12Z\"/>\n",
              "  </svg>\n",
              "    </button>\n",
              "    <script>\n",
              "      (() => {\n",
              "      const buttonEl =\n",
              "        document.querySelector('#id_3c311c1e-e1c7-49a4-8cd8-5cd07e45c0d4 button.colab-df-generate');\n",
              "      buttonEl.style.display =\n",
              "        google.colab.kernel.accessAllowed ? 'block' : 'none';\n",
              "\n",
              "      buttonEl.onclick = () => {\n",
              "        google.colab.notebook.generateWithVariable('df_accuracy');\n",
              "      }\n",
              "      })();\n",
              "    </script>\n",
              "  </div>\n",
              "\n",
              "    </div>\n",
              "  </div>\n"
            ],
            "application/vnd.google.colaboratory.intrinsic+json": {
              "type": "dataframe",
              "variable_name": "df_accuracy",
              "summary": "{\n  \"name\": \"df_accuracy\",\n  \"rows\": 8,\n  \"fields\": [\n    {\n      \"column\": \"Algorithm\",\n      \"properties\": {\n        \"dtype\": \"string\",\n        \"num_unique_values\": 8,\n        \"samples\": [\n          \"Decision Tree\",\n          \"XGBoost\",\n          \"K Nearest Neighbors\"\n        ],\n        \"semantic_type\": \"\",\n        \"description\": \"\"\n      }\n    },\n    {\n      \"column\": \"Accuracy (in percent)\",\n      \"properties\": {\n        \"dtype\": \"number\",\n        \"std\": 19.356566945834466,\n        \"min\": 37.0,\n        \"max\": 83.17,\n        \"num_unique_values\": 8,\n        \"samples\": [\n          79.88,\n          65.49,\n          75.73\n        ],\n        \"semantic_type\": \"\",\n        \"description\": \"\"\n      }\n    }\n  ]\n}"
            }
          },
          "metadata": {},
          "execution_count": 43
        }
      ],
      "source": [
        "d = {'Algorithm': ['K Nearest Neighbors','Decision Tree',\n",
        "                   'Random Forest','Gradient Boost','Ada Boost','XGBoost','Logistic Regression','Naive Bayes'],\n",
        "     'Accuracy (in percent)': [75.73,79.88,83.17,54.56,40.36,65.49,37.00,38.26]}\n",
        "df_accuracy = pd.DataFrame(data=d)\n",
        "df_accuracy"
      ]
    },
    {
      "cell_type": "code",
      "execution_count": 44,
      "id": "1c7160ac",
      "metadata": {
        "id": "1c7160ac",
        "colab": {
          "base_uri": "https://localhost:8080/",
          "height": 808
        },
        "outputId": "ccc32208-dc32-4599-d278-ca4c765aae07"
      },
      "outputs": [
        {
          "output_type": "stream",
          "name": "stderr",
          "text": [
            "<ipython-input-44-1ce3ed2c7e6f>:3: FutureWarning: \n",
            "\n",
            "Passing `palette` without assigning `hue` is deprecated and will be removed in v0.14.0. Assign the `x` variable to `hue` and set `legend=False` for the same effect.\n",
            "\n",
            "  p = sns.barplot(x=\"Algorithm\", y=\"Accuracy (in percent)\", data=df_accuracy,palette='hot',edgecolor=sns.color_palette('dark',7))\n"
          ]
        },
        {
          "output_type": "execute_result",
          "data": {
            "text/plain": [
              "Text(0, 0.5, 'Accuracy (in percent)')"
            ]
          },
          "metadata": {},
          "execution_count": 44
        },
        {
          "output_type": "display_data",
          "data": {
            "text/plain": [
              "<Figure size 700x600 with 1 Axes>"
            ],
            "image/png": "[encoded data removed]"
          },
          "metadata": {}
        }
      ],
      "source": [
        "plt.figure(figsize=(7,6))\n",
        "plt.title('Accuracy Comparison',fontsize=14, pad = 10.0)\n",
        "p = sns.barplot(x=\"Algorithm\", y=\"Accuracy (in percent)\", data=df_accuracy,palette='hot',edgecolor=sns.color_palette('dark',7))\n",
        "plt.xticks(rotation=90)\n",
        "p.set_xlabel('Algorithm', fontsize=14)\n",
        "p.set_ylabel('Accuracy (in percent)', fontsize=14)\n",
        "#p.bar_label(p.containers[0])\n",
        "#plt.savefig('Accuracy Comparison', dpi=300);"
      ]
    },
    {
      "cell_type": "markdown",
      "id": "fb8741ce",
      "metadata": {
        "id": "fb8741ce"
      },
      "source": [
        "### Confusion Matrix & ROC-AUC"
      ]
    },
    {
      "cell_type": "code",
      "execution_count": 45,
      "id": "ca53067c",
      "metadata": {
        "id": "ca53067c"
      },
      "outputs": [],
      "source": [
        "from sklearn.metrics import classification_report, accuracy_score, confusion_matrix, roc_curve\n",
        "from sklearn.multiclass import OneVsRestClassifier"
      ]
    },
    {
      "cell_type": "code",
      "execution_count": 46,
      "id": "77b529a2",
      "metadata": {
        "id": "77b529a2",
        "colab": {
          "base_uri": "https://localhost:8080/"
        },
        "outputId": "a074132f-e69c-41c1-bd14-523d8f93790f"
      },
      "outputs": [
        {
          "output_type": "execute_result",
          "data": {
            "text/plain": [
              "array([[19889,  1274,   433,   821,  2189,   100,   138],\n",
              "       [ 1181, 17778,   732,  3178,   700,   565,   496],\n",
              "       [  387,   541, 22025,   871,   775,   143,    89],\n",
              "       [  777,  3015,  1093, 17789,   952,   548,   350],\n",
              "       [ 2041,   617,   578,   651, 20901,     8,     9],\n",
              "       [   80,   306,    82,   351,    11, 22791,  1135],\n",
              "       [   77,   309,    44,   227,    17,  1233, 22796]])"
            ]
          },
          "metadata": {},
          "execution_count": 46
        }
      ],
      "source": [
        "cf_matrix = confusion_matrix(y_test,pred_randf)\n",
        "cf_matrix"
      ]
    },
    {
      "cell_type": "code",
      "execution_count": 47,
      "id": "2f903e85",
      "metadata": {
        "id": "2f903e85",
        "colab": {
          "base_uri": "https://localhost:8080/",
          "height": 614
        },
        "outputId": "8e9a8197-36c6-4564-94dd-2381f76edade"
      },
      "outputs": [
        {
          "output_type": "execute_result",
          "data": {
            "text/plain": [
              "(array([0.5, 1.5, 2.5, 3.5, 4.5, 5.5, 6.5]),\n",
              " [Text(0, 0.5, 'FCW'),\n",
              "  Text(0, 1.5, 'HMW'),\n",
              "  Text(0, 2.5, 'LDWL'),\n",
              "  Text(0, 3.5, 'LDWR'),\n",
              "  Text(0, 4.5, 'Overspeed'),\n",
              "  Text(0, 5.5, 'PCW'),\n",
              "  Text(0, 6.5, 'UFCW')])"
            ]
          },
          "metadata": {},
          "execution_count": 47
        },
        {
          "output_type": "display_data",
          "data": {
            "text/plain": [
              "<Figure size 700x500 with 2 Axes>"
            ],
            "image/png": "[encoded data removed]"
          },
          "metadata": {}
        }
      ],
      "source": [
        "import seaborn as sns\n",
        "cf_matrix = pd.crosstab(label[y_test],label[pred_randf])\n",
        "fig = plt.subplots(figsize=(7,5))\n",
        "s = sns.heatmap(cf_matrix, linewidths=1, annot=True, fmt = 'g')\n",
        "s.set_xlabel('Predicted', labelpad=8.0, fontsize=14)\n",
        "s.set_ylabel('Truth', labelpad=8.0, fontsize=14)\n",
        "#plt.savefig('Confusion Matrix',dpi=300);\n",
        "plt.yticks(rotation=0)"
      ]
    },
    {
      "cell_type": "code",
      "execution_count": 48,
      "id": "528a0ed5",
      "metadata": {
        "id": "528a0ed5",
        "colab": {
          "base_uri": "https://localhost:8080/"
        },
        "outputId": "367de158-4a92-4568-8d4b-9f8454772e41"
      },
      "outputs": [
        {
          "output_type": "stream",
          "name": "stdout",
          "text": [
            "              precision    recall  f1-score   support\n",
            "\n",
            "         PCW       0.81      0.80      0.81     24844\n",
            "         FCW       0.75      0.72      0.73     24630\n",
            "   Overspeed       0.88      0.89      0.88     24831\n",
            "         HMW       0.74      0.73      0.73     24524\n",
            "        UFCW       0.82      0.84      0.83     24805\n",
            "        LDWL       0.90      0.92      0.91     24756\n",
            "        LDWR       0.91      0.92      0.92     24703\n",
            "\n",
            "    accuracy                           0.83    173093\n",
            "   macro avg       0.83      0.83      0.83    173093\n",
            "weighted avg       0.83      0.83      0.83    173093\n",
            "\n"
          ]
        }
      ],
      "source": [
        "print(classification_report(y_test,pred_randf,target_names=label))"
      ]
    },
    {
      "cell_type": "code",
      "execution_count": 49,
      "id": "8b37d49f",
      "metadata": {
        "id": "8b37d49f"
      },
      "outputs": [],
      "source": [
        "clf = OneVsRestClassifier(randf)\n",
        "clf.fit(x_train, y_train)\n",
        "pred = clf.predict(x_test)\n",
        "pred_prob = clf.predict_proba(x_test)"
      ]
    },
    {
      "cell_type": "code",
      "execution_count": 50,
      "id": "fc727daa",
      "metadata": {
        "id": "fc727daa"
      },
      "outputs": [],
      "source": [
        "fpr = {}\n",
        "tpr = {}\n",
        "thresh ={}\n",
        "\n",
        "n_class = 6\n",
        "for i in range(n_class):\n",
        "    fpr[i], tpr[i], thresh[i] = roc_curve(y_test, pred_prob[:,i], pos_label=i)"
      ]
    },
    {
      "cell_type": "code",
      "execution_count": 51,
      "id": "3819b3e2",
      "metadata": {
        "id": "3819b3e2",
        "colab": {
          "base_uri": "https://localhost:8080/",
          "height": 489
        },
        "outputId": "773c7866-aa8f-4397-d7ff-8bbae86db2b1"
      },
      "outputs": [
        {
          "output_type": "execute_result",
          "data": {
            "text/plain": [
              "<matplotlib.legend.Legend at 0x793481f6c850>"
            ]
          },
          "metadata": {},
          "execution_count": 51
        },
        {
          "output_type": "display_data",
          "data": {
            "text/plain": [
              "<Figure size 640x480 with 1 Axes>"
            ],
            "image/png": "[encoded data removed]"
          },
          "metadata": {}
        }
      ],
      "source": [
        "plt.plot(fpr[0], tpr[0], linestyle='--',color='orange', label='UFCW vs Rest')\n",
        "plt.plot(fpr[1], tpr[1], linestyle='--',color='green', label='PCW vs Rest')\n",
        "plt.plot(fpr[2], tpr[2], linestyle='--',color='blue', label='Overspeed vs Rest')\n",
        "plt.plot(fpr[3], tpr[3], linestyle='--',color='red', label='LDWR vs Rest')\n",
        "plt.plot(fpr[4], tpr[4], linestyle='--',color='lawngreen', label='LDWL vs Rest')\n",
        "plt.plot(fpr[5], tpr[5], linestyle='--',color='black', label='HMW vs Rest')\n",
        "plt.plot(fpr[5], tpr[5], linestyle='--',color='lightgreen', label='FCW vs Rest')\n",
        "plt.title('Multiclass ROC curve')\n",
        "plt.xlabel('False Positive Rate')\n",
        "plt.ylabel('True Positive rate')\n",
        "plt.legend(loc='best')\n",
        "#plt.savefig('Multiclass ROC',dpi=300);"
      ]
    },
    {
      "cell_type": "markdown",
      "source": [
        "Explainable AI"
      ],
      "metadata": {
        "id": "5PQ-aMIvPuDF"
      },
      "id": "5PQ-aMIvPuDF"
    },
    {
      "cell_type": "code",
      "source": [
        "pip install shap"
      ],
      "metadata": {
        "colab": {
          "base_uri": "https://localhost:8080/"
        },
        "id": "nWoCIOqAPwbG",
        "outputId": "e6af7207-3d98-41fc-8bfc-8f10a8259558"
      },
      "id": "nWoCIOqAPwbG",
      "execution_count": 52,
      "outputs": [
        {
          "output_type": "stream",
          "name": "stdout",
          "text": [
            "Requirement already satisfied: shap in /usr/local/lib/python3.10/dist-packages (0.45.0)\n",
            "Requirement already satisfied: numpy in /usr/local/lib/python3.10/dist-packages (from shap) (1.25.2)\n",
            "Requirement already satisfied: scipy in /usr/local/lib/python3.10/dist-packages (from shap) (1.11.4)\n",
            "Requirement already satisfied: scikit-learn in /usr/local/lib/python3.10/dist-packages (from shap) (1.2.2)\n",
            "Requirement already satisfied: pandas in /usr/local/lib/python3.10/dist-packages (from shap) (1.5.3)\n",
            "Requirement already satisfied: tqdm>=4.27.0 in /usr/local/lib/python3.10/dist-packages (from shap) (4.66.2)\n",
            "Requirement already satisfied: packaging>20.9 in /usr/local/lib/python3.10/dist-packages (from shap) (24.0)\n",
            "Requirement already satisfied: slicer==0.0.7 in /usr/local/lib/python3.10/dist-packages (from shap) (0.0.7)\n",
            "Requirement already satisfied: numba in /usr/local/lib/python3.10/dist-packages (from shap) (0.58.1)\n",
            "Requirement already satisfied: cloudpickle in /usr/local/lib/python3.10/dist-packages (from shap) (2.2.1)\n",
            "Requirement already satisfied: llvmlite<0.42,>=0.41.0dev0 in /usr/local/lib/python3.10/dist-packages (from numba->shap) (0.41.1)\n",
            "Requirement already satisfied: python-dateutil>=2.8.1 in /usr/local/lib/python3.10/dist-packages (from pandas->shap) (2.8.2)\n",
            "Requirement already satisfied: pytz>=2020.1 in /usr/local/lib/python3.10/dist-packages (from pandas->shap) (2023.4)\n",
            "Requirement already satisfied: joblib>=1.1.1 in /usr/local/lib/python3.10/dist-packages (from scikit-learn->shap) (1.3.2)\n",
            "Requirement already satisfied: threadpoolctl>=2.0.0 in /usr/local/lib/python3.10/dist-packages (from scikit-learn->shap) (3.4.0)\n",
            "Requirement already satisfied: six>=1.5 in /usr/local/lib/python3.10/dist-packages (from python-dateutil>=2.8.1->pandas->shap) (1.16.0)\n"
          ]
        }
      ]
    },
    {
      "cell_type": "code",
      "source": [
        "import shap"
      ],
      "metadata": {
        "id": "KzNKmYHfQT0b"
      },
      "id": "KzNKmYHfQT0b",
      "execution_count": 53,
      "outputs": []
    },
    {
      "cell_type": "code",
      "source": [
        "# Create object that can calculate shap values\n",
        "explainer = shap.TreeExplainer(randf)\n",
        "# Calculate Shap values\n",
        "shap_values = explainer.shap_values(x_train)"
      ],
      "metadata": {
        "id": "v3oDTc84QPQJ"
      },
      "id": "v3oDTc84QPQJ",
      "execution_count": null,
      "outputs": []
    },
    {
      "cell_type": "code",
      "source": [
        "shap.summary_plot(shap_values, x_train)"
      ],
      "metadata": {
        "id": "B6rG_qy0QaM_"
      },
      "id": "B6rG_qy0QaM_",
      "execution_count": null,
      "outputs": []
    }
  ],
  "metadata": {
    "kernelspec": {
      "display_name": "Python 3 (ipykernel)",
      "language": "python",
      "name": "python3"
    },
    "language_info": {
      "codemirror_mode": {
        "name": "ipython",
        "version": 3
      },
      "file_extension": ".py",
      "mimetype": "text/x-python",
      "name": "python",
      "nbconvert_exporter": "python",
      "pygments_lexer": "ipython3",
      "version": "3.11.5"
    },
    "colab": {
      "provenance": []
    }
  },
  "nbformat": 4,
  "nbformat_minor": 5
}